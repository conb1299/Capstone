{
 "cells": [
  {
   "cell_type": "code",
   "execution_count": 134,
   "metadata": {},
   "outputs": [],
   "source": [
    "import numpy as np\n",
    "import scipy\n",
    "from keras import losses, models, optimizers\n",
    "from keras.activations import relu, softmax\n",
    "from keras.callbacks import (EarlyStopping, LearningRateScheduler,\n",
    "                             ModelCheckpoint, TensorBoard, ReduceLROnPlateau)\n",
    "from keras.layers import (Convolution1D, Dense, Dropout, GlobalAveragePooling1D, \n",
    "                          GlobalMaxPool1D, Input, MaxPool1D, concatenate)\n",
    "from keras.utils import Sequence, to_categorical\n",
    "import keras\n",
    "from keras.models import Sequential\n",
    "from keras.layers import Dense, Dropout, Flatten, Conv2D, MaxPooling2D\n",
    "from keras.utils import to_categorical"
   ]
  },
  {
   "cell_type": "code",
   "execution_count": 135,
   "metadata": {},
   "outputs": [],
   "source": [
    "import numpy as np\n",
    "import IPython\n",
    "import matplotlib\n",
    "import matplotlib.pyplot as plt\n",
    "import pandas as pd\n",
    "import seaborn as sns\n",
    "from tqdm import tqdm_notebook\n",
    "from sklearn.cross_validation import StratifiedKFold\n",
    "import IPython.display as ipd\n",
    "import os\n",
    "from scipy.io import wavfile as wav\n",
    "from __future__ import division\n",
    "from tqdm import tqdm\n",
    "import librosa\n",
    "from sklearn.model_selection import train_test_split\n",
    "from sklearn.linear_model import LogisticRegression\n",
    "%matplotlib inline"
   ]
  },
  {
   "cell_type": "markdown",
   "metadata": {},
   "source": [
    "# Capstone: Building a Sound Recognition Engine"
   ]
  },
  {
   "cell_type": "code",
   "execution_count": 136,
   "metadata": {},
   "outputs": [],
   "source": [
    "train= 'AudioEventDataset/train'\n",
    "test= 'AudioEventDataset/test'"
   ]
  },
  {
   "cell_type": "code",
   "execution_count": 137,
   "metadata": {},
   "outputs": [
    {
     "data": {
      "text/plain": [
       "'C:\\\\Windows\\\\system32\\\\AudioEventDataset\\\\train'"
      ]
     },
     "execution_count": 137,
     "metadata": {},
     "output_type": "execute_result"
    }
   ],
   "source": [
    "os.path.abspath('AudioEventDataset/train')"
   ]
  },
  {
   "cell_type": "code",
   "execution_count": 138,
   "metadata": {},
   "outputs": [],
   "source": [
    "data_path='AudioEventDataset/train'\n",
    "dir_list= os.listdir(data_path)  #list of folders  \n",
    "for i in dir_list:\n",
    "    if not i.startswith('.'):\n",
    "        file_list = os.listdir(data_path+ '/' + i) \n",
    "        for j in file_list: \n",
    "            fname= data_path+'/' + i + '/' + j\n",
    "            ipd.Audio(fname)"
   ]
  },
  {
   "cell_type": "code",
   "execution_count": 139,
   "metadata": {},
   "outputs": [
    {
     "name": "stdout",
     "output_type": "stream",
     "text": [
      "acoustic_guitar\n",
      "airplane\n",
      "applause\n",
      "bird\n",
      "car\n",
      "cat\n",
      "child\n",
      "church_bell\n",
      "crowd\n",
      "dog_barking\n",
      "engine\n",
      "fireworks\n",
      "footstep\n",
      "glass_breaking\n",
      "hammer\n",
      "helicopter\n",
      "knock\n",
      "laughter\n",
      "mouse_click\n",
      "ocean_surf\n",
      "rustle\n",
      "scream\n",
      "speech_fs\n",
      "squeak\n",
      "tone\n",
      "violin\n",
      "water_tap\n",
      "whistle\n"
     ]
    }
   ],
   "source": [
    "#Extracting the categories of our data.\n",
    "data_path='AudioEventDataset/train'\n",
    "dir_list= os.listdir(data_path)  #list of folders  \n",
    "X=[]\n",
    "y=[]\n",
    "for i in dir_list:\n",
    "    if not i.startswith('.'):\n",
    "        file_list = os.listdir(data_path+ '/' + i) \n",
    "        \n",
    "        print (i)\n",
    "        for j in file_list: \n",
    "            fname= data_path+'/' + i + '/' + j\n",
    "           # print (fname)\n",
    "            rate, data = wav.read(fname)\n",
    "            X.append(data)\n",
    "            y.append(i)\n",
    "            #ipd.Audio(fname)\n",
    "            #plt.plot(data)\n",
    "            #plt.show()"
   ]
  },
  {
   "cell_type": "code",
   "execution_count": 140,
   "metadata": {},
   "outputs": [
    {
     "data": {
      "text/plain": [
       "14625"
      ]
     },
     "execution_count": 140,
     "metadata": {},
     "output_type": "execute_result"
    }
   ],
   "source": [
    "#normaling xs to the same length\n",
    "min(map(len, X))\n",
    "X=[sublist[:14625] for sublist in X]\n",
    "len(X[343])\n"
   ]
  },
  {
   "cell_type": "code",
   "execution_count": 141,
   "metadata": {},
   "outputs": [],
   "source": [
    "#converting xs sublists into matrix\n",
    "X=np.matrix(X)\n"
   ]
  },
  {
   "cell_type": "code",
   "execution_count": 142,
   "metadata": {},
   "outputs": [
    {
     "name": "stdout",
     "output_type": "stream",
     "text": [
      "Sampling (frame) rate =  16000\n",
      "Total samples (frames) =  174400\n",
      "Duration =  10.9\n"
     ]
    }
   ],
   "source": [
    "#looking at our first wav file\n",
    "import wave\n",
    "wav = wave.open(fname)\n",
    "print(\"Sampling (frame) rate = \", wav.getframerate())\n",
    "print(\"Total samples (frames) = \", wav.getnframes())\n",
    "print(\"Duration = \", wav.getnframes()/wav.getframerate())"
   ]
  },
  {
   "cell_type": "code",
   "execution_count": 143,
   "metadata": {},
   "outputs": [
    {
     "name": "stdout",
     "output_type": "stream",
     "text": [
      "Sampling (frame) rate =  16000\n",
      "Total samples (frames) =  (174400,)\n",
      "[-1660 -6080 -8146 ...    -5    83   111]\n"
     ]
    }
   ],
   "source": [
    "# Using scipy \n",
    "from scipy.io import wavfile\n",
    "rate, data = wavfile.read(fname)\n",
    "print(\"Sampling (frame) rate = \", rate)\n",
    "print(\"Total samples (frames) = \", data.shape)\n",
    "print(data)"
   ]
  },
  {
   "cell_type": "code",
   "execution_count": 177,
   "metadata": {},
   "outputs": [
    {
     "data": {
      "image/png": "[encoded data removed]",
      "text/plain": [
       "<Figure size 432x288 with 1 Axes>"
      ]
     },
     "metadata": {},
     "output_type": "display_data"
    }
   ],
   "source": [
    "#plotting our first file \n",
    "plt.plot(data, '-', )\n",
    "plt.xlabel('Samples')\n",
    "plt.ylabel('Amplitude')\n",
    "plt.title('Amplitude by Sample of First .wav File')\n",
    "plt.show()"
   ]
  },
  {
   "cell_type": "code",
   "execution_count": 145,
   "metadata": {},
   "outputs": [
    {
     "data": {
      "image/png": "[encoded data removed]",
      "text/plain": [
       "<Figure size 1152x288 with 1 Axes>"
      ]
     },
     "metadata": {},
     "output_type": "display_data"
    }
   ],
   "source": [
    "#Plotting the first 500 frames of our first audio file\n",
    "plt.figure(figsize=(16, 4))\n",
    "plt.plot(data[:500], '.');\n",
    "plt.plot(data[:500], '-')\n",
    "plt.show()"
   ]
  },
  {
   "cell_type": "markdown",
   "metadata": {},
   "source": [
    "## Preprocessing"
   ]
  },
  {
   "cell_type": "code",
   "execution_count": 15,
   "metadata": {},
   "outputs": [],
   "source": [
    "import librosa"
   ]
  },
  {
   "cell_type": "code",
   "execution_count": 146,
   "metadata": {},
   "outputs": [],
   "source": [
    "def get_labels(path=data_path):\n",
    "    labels = os.listdir(path)\n",
    "    label_indices = np.arange(0, len(labels))\n",
    "    return labels, label_indices, to_categorical(label_indices)"
   ]
  },
  {
   "cell_type": "code",
   "execution_count": 147,
   "metadata": {},
   "outputs": [],
   "source": [
    "def wav2mfcc(file_path, max_len=11):\n",
    "    wave, sr = librosa.load(file_path, mono=True, sr=None)\n",
    "    wave = wave[::1]\n",
    "    mfcc = librosa.feature.mfcc(wave, sr=16000)\n",
    "\n",
    "    # If maximum length exceeds mfcc lengths then pad the remaining ones\n",
    "    if (max_len > mfcc.shape[1]):\n",
    "        pad_width = max_len - mfcc.shape[1]\n",
    "        mfcc = np.pad(mfcc, pad_width=((0, 0), (0, pad_width)), mode='constant')\n",
    "\n",
    "    # Else cutoff the remaining parts\n",
    "    else:\n",
    "        mfcc = mfcc[:, :max_len]\n",
    "    \n",
    "    return mfcc\n"
   ]
  },
  {
   "cell_type": "code",
   "execution_count": 148,
   "metadata": {},
   "outputs": [],
   "source": [
    "def save_data_to_array(path=data_path, max_len=11):\n",
    "    labels, _, _ = get_labels(path)\n",
    "\n",
    "    for label in labels:\n",
    "        # Init mfcc vectors\n",
    "        mfcc_vectors = []\n",
    "\n",
    "        wavfiles = [path + '/'+ label + '/' + wavfile for wavfile in os.listdir(path + '/' + label)]\n",
    "        for wavfile in tqdm(wavfiles, \"Saving vectors of label - '{}'\".format(label)):\n",
    "            mfcc = wav2mfcc(wavfile, max_len=max_len)\n",
    "            mfcc_vectors.append(mfcc)\n",
    "        np.save(label + '.npy', mfcc_vectors)"
   ]
  },
  {
   "cell_type": "code",
   "execution_count": 149,
   "metadata": {},
   "outputs": [],
   "source": [
    "def get_train_test(split_ratio=0.6, random_state=42):\n",
    "    # Get available labels\n",
    "    labels, indices, _ = get_labels(data_path)\n",
    "\n",
    "    # Getting first arrays\n",
    "    X = np.load(labels[0] + '.npy')\n",
    "    y = np.zeros(X.shape[0])\n",
    "\n",
    "    # Append all of the dataset into one single array, same goes for y\n",
    "    for i, label in enumerate(labels[1:]):\n",
    "        x = np.load(label + '.npy')\n",
    "        X = np.vstack((X, x))\n",
    "        y = np.append(y, np.full(x.shape[0], fill_value= (i + 1)))\n",
    "\n",
    "    assert X.shape[0] == len(y)\n",
    "\n",
    "    return train_test_split(X, y, test_size= (1 - split_ratio), random_state=random_state, shuffle=True)"
   ]
  },
  {
   "cell_type": "code",
   "execution_count": 180,
   "metadata": {},
   "outputs": [
    {
     "data": {
      "text/plain": [
       "matrix([[    0,     0,     0, ...,  3990,  4366,  4471],\n",
       "        [    0,     9,    60, ...,  4353,  4618,  5065],\n",
       "        [  203,   215,   214, ...,  1760,  1975,  1842],\n",
       "        ...,\n",
       "        [ -213,  -370,  -528, ..., -1338, -5617, -7393],\n",
       "        [  244,   135,   525, ...,  4845,  5092,  5281],\n",
       "        [-1660, -6080, -8146, ...,   317,   387,   146]], dtype=int16)"
      ]
     },
     "execution_count": 180,
     "metadata": {},
     "output_type": "execute_result"
    }
   ],
   "source": [
    "X"
   ]
  },
  {
   "cell_type": "code",
   "execution_count": 151,
   "metadata": {},
   "outputs": [],
   "source": [
    "def prepare_dataset(path=data_path):\n",
    "    labels, _, _ = get_labels(path)\n",
    "    data = {}\n",
    "    for label in labels:\n",
    "        data[label] = {}\n",
    "        data[label]['path'] = [path  + label + '/' + wavfile for wavfile in os.listdir(path + '/' + label)]\n",
    "\n",
    "        vectors = []\n",
    "\n",
    "        for wavfile in data[label]['path']:\n",
    "            wave, sr = librosa.load(wavfile, mono=True, sr=None)\n",
    "            # Downsampling\n",
    "            wave = wave[::3]\n",
    "            mfcc = librosa.feature.mfcc(wave, sr=16000)\n",
    "            vectors.append(mfcc)\n",
    "\n",
    "        data[label]['mfcc'] = vectors\n",
    "\n",
    "    return data\n"
   ]
  },
  {
   "cell_type": "code",
   "execution_count": 152,
   "metadata": {},
   "outputs": [],
   "source": [
    "def load_dataset(path=data_path):\n",
    "    data = prepare_dataset(path)\n",
    "\n",
    "    dataset = []\n",
    "\n",
    "    for key in data:\n",
    "        for mfcc in data[key]['mfcc']:\n",
    "            dataset.append((key, mfcc))\n",
    "\n",
    "    return dataset[:100]"
   ]
  },
  {
   "cell_type": "markdown",
   "metadata": {},
   "source": [
    "## Building and Fitting Our Model"
   ]
  },
  {
   "cell_type": "code",
   "execution_count": 153,
   "metadata": {},
   "outputs": [
    {
     "name": "stderr",
     "output_type": "stream",
     "text": [
      "Saving vectors of label - 'acoustic_guitar': 100%|█| 137/137 [00:04<00:00, 30.54it/s]\n",
      "Saving vectors of label - 'airplane': 100%|██| 145/145 [00:06<00:00, 22.28it/s]\n",
      "Saving vectors of label - 'applause': 100%|██| 209/209 [00:07<00:00, 26.55it/s]\n",
      "Saving vectors of label - 'bird': 100%|██████| 205/205 [00:08<00:00, 23.37it/s]\n",
      "Saving vectors of label - 'car': 100%|███████| 165/165 [00:06<00:00, 24.64it/s]\n",
      "Saving vectors of label - 'cat': 100%|███████| 125/125 [00:04<00:00, 28.62it/s]\n",
      "Saving vectors of label - 'child': 100%|███████| 87/87 [00:03<00:00, 25.30it/s]\n",
      "Saving vectors of label - 'church_bell': 100%|█| 52/52 [00:02<00:00, 25.19it/s]\n",
      "Saving vectors of label - 'crowd': 100%|█████| 252/252 [00:11<00:00, 21.77it/s]\n",
      "Saving vectors of label - 'dog_barking': 100%|█| 85/85 [00:02<00:00, 40.61it/s]\n",
      "Saving vectors of label - 'engine': 100%|████| 212/212 [00:08<00:00, 23.70it/s]\n",
      "Saving vectors of label - 'fireworks': 100%|█| 198/198 [00:07<00:00, 26.30it/s]\n",
      "Saving vectors of label - 'footstep': 100%|██| 293/293 [00:13<00:00, 22.51it/s]\n",
      "Saving vectors of label - 'glass_breaking': 100%|█| 65/65 [00:01<00:00, 55.55it/s]\n",
      "Saving vectors of label - 'hammer': 100%|████| 192/192 [00:08<00:00, 23.54it/s]\n",
      "Saving vectors of label - 'helicopter': 100%|██| 84/84 [00:03<00:00, 21.85it/s]\n",
      "Saving vectors of label - 'knock': 100%|███████| 78/78 [00:02<00:00, 35.88it/s]\n",
      "Saving vectors of label - 'laughter': 100%|██| 152/152 [00:05<00:00, 29.83it/s]\n",
      "Saving vectors of label - 'mouse_click': 100%|█| 75/75 [00:02<00:00, 26.58it/s]\n",
      "Saving vectors of label - 'ocean_surf': 100%|█| 170/170 [00:07<00:00, 22.25it/s]\n",
      "Saving vectors of label - 'rustle': 100%|████| 148/148 [00:04<00:00, 31.53it/s]\n",
      "Saving vectors of label - 'scream': 100%|██████| 44/44 [00:01<00:00, 41.66it/s]\n",
      "Saving vectors of label - 'speech_fs': 100%|███| 74/74 [00:03<00:00, 21.50it/s]\n",
      "Saving vectors of label - 'squeak': 100%|████| 135/135 [00:04<00:00, 32.31it/s]\n",
      "Saving vectors of label - 'tone': 100%|██████| 112/112 [00:03<00:00, 36.33it/s]\n",
      "Saving vectors of label - 'violin': 100%|████| 118/118 [00:03<00:00, 36.59it/s]\n",
      "Saving vectors of label - 'water_tap': 100%|█| 156/156 [00:05<00:00, 26.31it/s]\n",
      "Saving vectors of label - 'whistle': 100%|█████| 63/63 [00:01<00:00, 39.32it/s]\n"
     ]
    }
   ],
   "source": [
    "# Second dimension of the feature is dim2\n",
    "feature_dim_2 = 11\n",
    "\n",
    "# Save data to array file first\n",
    "save_data_to_array(max_len=feature_dim_2)\n",
    "\n",
    "# # Loading train set and test set\n",
    "X_train, X_test, y_train, y_test = get_train_test()\n",
    "\n",
    "# # Feature dimension\n",
    "feature_dim_1 = 20\n",
    "channel = 1\n",
    "epochs = 50\n",
    "batch_size = 100\n",
    "verbose = 1\n",
    "num_classes = 28\n",
    "\n",
    "# Reshaping to perform 2D convolution\n",
    "X_train = X_train.reshape(X_train.shape[0], feature_dim_1, feature_dim_2, channel)\n",
    "X_test = X_test.reshape(X_test.shape[0], feature_dim_1, feature_dim_2, channel)\n",
    "\n",
    "y_train_hot = to_categorical(y_train)\n",
    "y_test_hot = to_categorical(y_test)"
   ]
  },
  {
   "cell_type": "code",
   "execution_count": 154,
   "metadata": {},
   "outputs": [],
   "source": [
    "def get_model():\n",
    "    model = Sequential()\n",
    "    model.add(Conv2D(32, kernel_size=(2, 2), activation='relu', input_shape=(feature_dim_1, feature_dim_2, channel)))\n",
    "    model.add(Conv2D(48, kernel_size=(2, 2), activation='relu'))\n",
    "    model.add(Conv2D(120, kernel_size=(2, 2), activation='relu'))\n",
    "    model.add(MaxPooling2D(pool_size=(2, 2)))\n",
    "    model.add(Dropout(0.25))\n",
    "    model.add(Flatten())\n",
    "    model.add(Dense(128, activation='relu'))\n",
    "    model.add(Dropout(0.25))\n",
    "    model.add(Dense(64, activation='relu'))\n",
    "    model.add(Dropout(0.4))\n",
    "    model.add(Dense(num_classes, activation='softmax'))\n",
    "    model.compile(loss=keras.losses.categorical_crossentropy,\n",
    "                  optimizer=keras.optimizers.Nadam(),\n",
    "                  metrics=['accuracy'])\n",
    "    return model\n",
    "\n",
    "# Predicts one sample\n",
    "def predict(filepath, model):\n",
    "    sample = wav2mfcc(filepath)\n",
    "    sample_reshaped = sample.reshape(1, feature_dim_1, feature_dim_2, channel)\n",
    "    return get_labels()[0][\n",
    "            np.argmax(model.predict(sample_reshaped))\n",
    "    ]"
   ]
  },
  {
   "cell_type": "code",
   "execution_count": 155,
   "metadata": {},
   "outputs": [
    {
     "name": "stdout",
     "output_type": "stream",
     "text": [
      "Train on 2298 samples, validate on 1533 samples\n",
      "Epoch 1/50\n",
      "2298/2298 [==============================] - ETA: 38s - loss: 8.3920 - acc: 0.02 - ETA: 19s - loss: 6.9312 - acc: 0.03 - ETA: 13s - loss: 6.2493 - acc: 0.03 - ETA: 10s - loss: 5.5973 - acc: 0.02 - ETA: 8s - loss: 5.1952 - acc: 0.0320 - ETA: 7s - loss: 4.9080 - acc: 0.035 - ETA: 6s - loss: 4.7102 - acc: 0.034 - ETA: 5s - loss: 4.5529 - acc: 0.038 - ETA: 4s - loss: 4.4272 - acc: 0.040 - ETA: 4s - loss: 4.3250 - acc: 0.041 - ETA: 3s - loss: 4.2342 - acc: 0.043 - ETA: 3s - loss: 4.1540 - acc: 0.045 - ETA: 2s - loss: 4.0868 - acc: 0.046 - ETA: 2s - loss: 4.0290 - acc: 0.049 - ETA: 2s - loss: 3.9785 - acc: 0.052 - ETA: 1s - loss: 3.9350 - acc: 0.055 - ETA: 1s - loss: 3.8911 - acc: 0.060 - ETA: 1s - loss: 3.8530 - acc: 0.068 - ETA: 0s - loss: 3.8206 - acc: 0.069 - ETA: 0s - loss: 3.7914 - acc: 0.069 - ETA: 0s - loss: 3.7655 - acc: 0.072 - ETA: 0s - loss: 3.7394 - acc: 0.075 - 6s 3ms/step - loss: 3.7208 - acc: 0.0740 - val_loss: 3.2045 - val_acc: 0.1337\n",
      "Epoch 2/50\n",
      "2298/2298 [==============================] - ETA: 3s - loss: 3.1960 - acc: 0.070 - ETA: 3s - loss: 3.1989 - acc: 0.095 - ETA: 3s - loss: 3.2180 - acc: 0.110 - ETA: 3s - loss: 3.2077 - acc: 0.100 - ETA: 2s - loss: 3.2062 - acc: 0.096 - ETA: 2s - loss: 3.1749 - acc: 0.118 - ETA: 2s - loss: 3.1819 - acc: 0.111 - ETA: 2s - loss: 3.1849 - acc: 0.113 - ETA: 2s - loss: 3.1924 - acc: 0.104 - ETA: 2s - loss: 3.1887 - acc: 0.106 - ETA: 2s - loss: 3.1781 - acc: 0.110 - ETA: 1s - loss: 3.1848 - acc: 0.112 - ETA: 1s - loss: 3.1917 - acc: 0.113 - ETA: 1s - loss: 3.1833 - acc: 0.116 - ETA: 1s - loss: 3.1839 - acc: 0.114 - ETA: 1s - loss: 3.1844 - acc: 0.117 - ETA: 1s - loss: 3.1828 - acc: 0.115 - ETA: 0s - loss: 3.1833 - acc: 0.116 - ETA: 0s - loss: 3.1829 - acc: 0.116 - ETA: 0s - loss: 3.1811 - acc: 0.118 - ETA: 0s - loss: 3.1793 - acc: 0.119 - ETA: 0s - loss: 3.1806 - acc: 0.119 - 4s 2ms/step - loss: 3.1774 - acc: 0.1210 - val_loss: 3.0381 - val_acc: 0.1716\n",
      "Epoch 3/50\n",
      "2298/2298 [==============================] - ETA: 3s - loss: 3.1161 - acc: 0.120 - ETA: 3s - loss: 3.0481 - acc: 0.140 - ETA: 3s - loss: 3.0932 - acc: 0.126 - ETA: 3s - loss: 3.0861 - acc: 0.122 - ETA: 2s - loss: 3.0649 - acc: 0.138 - ETA: 2s - loss: 3.0547 - acc: 0.140 - ETA: 2s - loss: 3.0589 - acc: 0.145 - ETA: 2s - loss: 3.0532 - acc: 0.138 - ETA: 2s - loss: 3.0491 - acc: 0.150 - ETA: 2s - loss: 3.0590 - acc: 0.148 - ETA: 1s - loss: 3.0585 - acc: 0.151 - ETA: 1s - loss: 3.0592 - acc: 0.150 - ETA: 1s - loss: 3.0492 - acc: 0.153 - ETA: 1s - loss: 3.0533 - acc: 0.155 - ETA: 1s - loss: 3.0459 - acc: 0.158 - ETA: 1s - loss: 3.0332 - acc: 0.162 - ETA: 0s - loss: 3.0287 - acc: 0.165 - ETA: 0s - loss: 3.0248 - acc: 0.162 - ETA: 0s - loss: 3.0230 - acc: 0.165 - ETA: 0s - loss: 3.0263 - acc: 0.163 - ETA: 0s - loss: 3.0265 - acc: 0.165 - ETA: 0s - loss: 3.0271 - acc: 0.163 - 4s 2ms/step - loss: 3.0216 - acc: 0.1628 - val_loss: 2.8924 - val_acc: 0.2264\n",
      "Epoch 4/50\n",
      "2298/2298 [==============================] - ETA: 3s - loss: 2.9737 - acc: 0.190 - ETA: 3s - loss: 2.9457 - acc: 0.175 - ETA: 3s - loss: 2.9073 - acc: 0.186 - ETA: 3s - loss: 2.8992 - acc: 0.200 - ETA: 2s - loss: 2.9044 - acc: 0.200 - ETA: 2s - loss: 2.9240 - acc: 0.198 - ETA: 2s - loss: 2.9384 - acc: 0.201 - ETA: 2s - loss: 2.9462 - acc: 0.202 - ETA: 2s - loss: 2.9423 - acc: 0.204 - ETA: 2s - loss: 2.9475 - acc: 0.207 - ETA: 1s - loss: 2.9504 - acc: 0.197 - ETA: 1s - loss: 2.9464 - acc: 0.193 - ETA: 1s - loss: 2.9357 - acc: 0.194 - ETA: 1s - loss: 2.9158 - acc: 0.195 - ETA: 1s - loss: 2.9061 - acc: 0.198 - ETA: 1s - loss: 2.9042 - acc: 0.198 - ETA: 0s - loss: 2.9084 - acc: 0.198 - ETA: 0s - loss: 2.9108 - acc: 0.200 - ETA: 0s - loss: 2.9151 - acc: 0.200 - ETA: 0s - loss: 2.9124 - acc: 0.201 - ETA: 0s - loss: 2.9142 - acc: 0.201 - ETA: 0s - loss: 2.9065 - acc: 0.202 - 4s 2ms/step - loss: 2.9066 - acc: 0.2041 - val_loss: 2.7251 - val_acc: 0.2864\n",
      "Epoch 5/50\n",
      "2298/2298 [==============================] - ETA: 3s - loss: 2.8226 - acc: 0.260 - ETA: 3s - loss: 2.7376 - acc: 0.250 - ETA: 2s - loss: 2.7821 - acc: 0.230 - ETA: 2s - loss: 2.7877 - acc: 0.227 - ETA: 2s - loss: 2.7631 - acc: 0.230 - ETA: 2s - loss: 2.7940 - acc: 0.221 - ETA: 2s - loss: 2.7930 - acc: 0.214 - ETA: 2s - loss: 2.7781 - acc: 0.225 - ETA: 2s - loss: 2.7635 - acc: 0.223 - ETA: 1s - loss: 2.7675 - acc: 0.224 - ETA: 1s - loss: 2.7577 - acc: 0.220 - ETA: 1s - loss: 2.7567 - acc: 0.219 - ETA: 1s - loss: 2.7558 - acc: 0.220 - ETA: 1s - loss: 2.7428 - acc: 0.222 - ETA: 1s - loss: 2.7514 - acc: 0.218 - ETA: 1s - loss: 2.7497 - acc: 0.219 - ETA: 0s - loss: 2.7530 - acc: 0.218 - ETA: 0s - loss: 2.7566 - acc: 0.217 - ETA: 0s - loss: 2.7613 - acc: 0.218 - ETA: 0s - loss: 2.7629 - acc: 0.217 - ETA: 0s - loss: 2.7700 - acc: 0.215 - ETA: 0s - loss: 2.7738 - acc: 0.214 - 4s 2ms/step - loss: 2.7729 - acc: 0.2163 - val_loss: 2.8510 - val_acc: 0.2329\n",
      "Epoch 6/50\n",
      "2298/2298 [==============================] - ETA: 3s - loss: 2.8177 - acc: 0.240 - ETA: 3s - loss: 2.7810 - acc: 0.220 - ETA: 3s - loss: 2.7827 - acc: 0.233 - ETA: 2s - loss: 2.7780 - acc: 0.245 - ETA: 2s - loss: 2.7402 - acc: 0.234 - ETA: 2s - loss: 2.7847 - acc: 0.221 - ETA: 2s - loss: 2.7670 - acc: 0.235 - ETA: 2s - loss: 2.7469 - acc: 0.236 - ETA: 2s - loss: 2.7280 - acc: 0.241 - ETA: 1s - loss: 2.7332 - acc: 0.243 - ETA: 1s - loss: 2.7311 - acc: 0.238 - ETA: 1s - loss: 2.7331 - acc: 0.235 - ETA: 1s - loss: 2.7355 - acc: 0.235 - ETA: 1s - loss: 2.7135 - acc: 0.242 - ETA: 1s - loss: 2.7010 - acc: 0.244 - ETA: 1s - loss: 2.6943 - acc: 0.245 - ETA: 0s - loss: 2.6955 - acc: 0.246 - ETA: 0s - loss: 2.6948 - acc: 0.247 - ETA: 0s - loss: 2.6956 - acc: 0.247 - ETA: 0s - loss: 2.6901 - acc: 0.250 - ETA: 0s - loss: 2.6886 - acc: 0.249 - ETA: 0s - loss: 2.6775 - acc: 0.253 - 4s 2ms/step - loss: 2.6676 - acc: 0.2576 - val_loss: 2.5131 - val_acc: 0.3053\n",
      "Epoch 7/50\n",
      "2298/2298 [==============================] - ETA: 3s - loss: 2.5914 - acc: 0.300 - ETA: 3s - loss: 2.6238 - acc: 0.295 - ETA: 3s - loss: 2.6163 - acc: 0.283 - ETA: 2s - loss: 2.5617 - acc: 0.310 - ETA: 2s - loss: 2.6757 - acc: 0.288 - ETA: 2s - loss: 2.7223 - acc: 0.271 - ETA: 2s - loss: 2.7111 - acc: 0.277 - ETA: 2s - loss: 2.6971 - acc: 0.275 - ETA: 2s - loss: 2.6847 - acc: 0.270 - ETA: 1s - loss: 2.6869 - acc: 0.270 - ETA: 1s - loss: 2.6811 - acc: 0.270 - ETA: 1s - loss: 2.6752 - acc: 0.268 - ETA: 1s - loss: 2.6708 - acc: 0.266 - ETA: 1s - loss: 2.6617 - acc: 0.267 - ETA: 1s - loss: 2.6466 - acc: 0.272 - ETA: 1s - loss: 2.6434 - acc: 0.271 - ETA: 0s - loss: 2.6336 - acc: 0.272 - ETA: 0s - loss: 2.6367 - acc: 0.272 - ETA: 0s - loss: 2.6339 - acc: 0.273 - ETA: 0s - loss: 2.6397 - acc: 0.272 - ETA: 0s - loss: 2.6331 - acc: 0.274 - ETA: 0s - loss: 2.6284 - acc: 0.275 - 4s 2ms/step - loss: 2.6219 - acc: 0.2772 - val_loss: 2.5675 - val_acc: 0.2825\n",
      "Epoch 8/50\n",
      "2298/2298 [==============================] - ETA: 3s - loss: 2.3625 - acc: 0.330 - ETA: 3s - loss: 2.3738 - acc: 0.325 - ETA: 3s - loss: 2.3695 - acc: 0.340 - ETA: 3s - loss: 2.3803 - acc: 0.330 - ETA: 2s - loss: 2.4156 - acc: 0.314 - ETA: 2s - loss: 2.4002 - acc: 0.316 - ETA: 2s - loss: 2.4029 - acc: 0.321 - ETA: 2s - loss: 2.4380 - acc: 0.312 - ETA: 2s - loss: 2.4501 - acc: 0.308 - ETA: 2s - loss: 2.4556 - acc: 0.310 - ETA: 1s - loss: 2.4665 - acc: 0.303 - ETA: 1s - loss: 2.4701 - acc: 0.305 - ETA: 1s - loss: 2.4573 - acc: 0.311 - ETA: 1s - loss: 2.4448 - acc: 0.310 - ETA: 1s - loss: 2.4521 - acc: 0.314 - ETA: 1s - loss: 2.4518 - acc: 0.312 - ETA: 0s - loss: 2.4596 - acc: 0.305 - ETA: 0s - loss: 2.4609 - acc: 0.305 - ETA: 0s - loss: 2.4707 - acc: 0.302 - ETA: 0s - loss: 2.4606 - acc: 0.304 - ETA: 0s - loss: 2.4563 - acc: 0.305 - ETA: 0s - loss: 2.4589 - acc: 0.302 - 4s 2ms/step - loss: 2.4571 - acc: 0.3033 - val_loss: 2.4222 - val_acc: 0.3366\n",
      "Epoch 9/50\n"
     ]
    },
    {
     "name": "stdout",
     "output_type": "stream",
     "text": [
      "2298/2298 [==============================] - ETA: 3s - loss: 2.2877 - acc: 0.340 - ETA: 3s - loss: 2.2164 - acc: 0.390 - ETA: 3s - loss: 2.2373 - acc: 0.383 - ETA: 2s - loss: 2.2447 - acc: 0.365 - ETA: 2s - loss: 2.2803 - acc: 0.352 - ETA: 2s - loss: 2.3352 - acc: 0.336 - ETA: 2s - loss: 2.3417 - acc: 0.330 - ETA: 2s - loss: 2.3177 - acc: 0.341 - ETA: 2s - loss: 2.3388 - acc: 0.334 - ETA: 2s - loss: 2.3609 - acc: 0.329 - ETA: 1s - loss: 2.3539 - acc: 0.331 - ETA: 1s - loss: 2.3632 - acc: 0.330 - ETA: 1s - loss: 2.3592 - acc: 0.330 - ETA: 1s - loss: 2.3558 - acc: 0.329 - ETA: 1s - loss: 2.3473 - acc: 0.331 - ETA: 1s - loss: 2.3374 - acc: 0.333 - ETA: 0s - loss: 2.3455 - acc: 0.327 - ETA: 0s - loss: 2.3476 - acc: 0.328 - ETA: 0s - loss: 2.3526 - acc: 0.329 - ETA: 0s - loss: 2.3468 - acc: 0.328 - ETA: 0s - loss: 2.3406 - acc: 0.331 - ETA: 0s - loss: 2.3467 - acc: 0.330 - 4s 2ms/step - loss: 2.3461 - acc: 0.3329 - val_loss: 2.4384 - val_acc: 0.3268\n",
      "Epoch 10/50\n",
      "2298/2298 [==============================] - ETA: 3s - loss: 2.4187 - acc: 0.330 - ETA: 3s - loss: 2.4131 - acc: 0.325 - ETA: 3s - loss: 2.4021 - acc: 0.323 - ETA: 2s - loss: 2.3002 - acc: 0.360 - ETA: 2s - loss: 2.3261 - acc: 0.348 - ETA: 2s - loss: 2.3623 - acc: 0.340 - ETA: 2s - loss: 2.3634 - acc: 0.335 - ETA: 2s - loss: 2.3675 - acc: 0.330 - ETA: 2s - loss: 2.3472 - acc: 0.341 - ETA: 2s - loss: 2.3208 - acc: 0.343 - ETA: 1s - loss: 2.3237 - acc: 0.343 - ETA: 1s - loss: 2.3125 - acc: 0.348 - ETA: 1s - loss: 2.2955 - acc: 0.352 - ETA: 1s - loss: 2.3140 - acc: 0.348 - ETA: 1s - loss: 2.2939 - acc: 0.354 - ETA: 1s - loss: 2.2919 - acc: 0.353 - ETA: 0s - loss: 2.2978 - acc: 0.352 - ETA: 0s - loss: 2.3138 - acc: 0.346 - ETA: 0s - loss: 2.3340 - acc: 0.341 - ETA: 0s - loss: 2.3400 - acc: 0.338 - ETA: 0s - loss: 2.3318 - acc: 0.341 - ETA: 0s - loss: 2.3244 - acc: 0.341 - 4s 2ms/step - loss: 2.3237 - acc: 0.3390 - val_loss: 2.3954 - val_acc: 0.3503\n",
      "Epoch 11/50\n",
      "2298/2298 [==============================] - ETA: 3s - loss: 2.3128 - acc: 0.320 - ETA: 3s - loss: 2.1233 - acc: 0.380 - ETA: 3s - loss: 2.0863 - acc: 0.383 - ETA: 2s - loss: 2.1095 - acc: 0.370 - ETA: 2s - loss: 2.1180 - acc: 0.368 - ETA: 2s - loss: 2.1297 - acc: 0.368 - ETA: 2s - loss: 2.1252 - acc: 0.370 - ETA: 2s - loss: 2.1283 - acc: 0.371 - ETA: 2s - loss: 2.1438 - acc: 0.363 - ETA: 2s - loss: 2.1413 - acc: 0.362 - ETA: 1s - loss: 2.1475 - acc: 0.358 - ETA: 1s - loss: 2.1632 - acc: 0.357 - ETA: 1s - loss: 2.1566 - acc: 0.361 - ETA: 1s - loss: 2.1622 - acc: 0.362 - ETA: 1s - loss: 2.1558 - acc: 0.366 - ETA: 1s - loss: 2.1613 - acc: 0.366 - ETA: 0s - loss: 2.1651 - acc: 0.367 - ETA: 0s - loss: 2.1733 - acc: 0.364 - ETA: 0s - loss: 2.1820 - acc: 0.362 - ETA: 0s - loss: 2.1847 - acc: 0.361 - ETA: 0s - loss: 2.1872 - acc: 0.361 - ETA: 0s - loss: 2.1895 - acc: 0.360 - 4s 2ms/step - loss: 2.1915 - acc: 0.3573 - val_loss: 2.3585 - val_acc: 0.3549\n",
      "Epoch 12/50\n",
      "2298/2298 [==============================] - ETA: 3s - loss: 2.0397 - acc: 0.400 - ETA: 3s - loss: 2.1301 - acc: 0.375 - ETA: 3s - loss: 2.1090 - acc: 0.383 - ETA: 2s - loss: 2.0772 - acc: 0.390 - ETA: 2s - loss: 2.1744 - acc: 0.368 - ETA: 2s - loss: 2.1520 - acc: 0.378 - ETA: 2s - loss: 2.1461 - acc: 0.384 - ETA: 2s - loss: 2.1349 - acc: 0.388 - ETA: 2s - loss: 2.1202 - acc: 0.395 - ETA: 2s - loss: 2.1048 - acc: 0.398 - ETA: 1s - loss: 2.0946 - acc: 0.395 - ETA: 1s - loss: 2.0881 - acc: 0.396 - ETA: 1s - loss: 2.1190 - acc: 0.391 - ETA: 1s - loss: 2.1315 - acc: 0.387 - ETA: 1s - loss: 2.1337 - acc: 0.384 - ETA: 1s - loss: 2.1264 - acc: 0.383 - ETA: 0s - loss: 2.1101 - acc: 0.387 - ETA: 0s - loss: 2.1194 - acc: 0.386 - ETA: 0s - loss: 2.1259 - acc: 0.384 - ETA: 0s - loss: 2.1154 - acc: 0.389 - ETA: 0s - loss: 2.1143 - acc: 0.390 - ETA: 0s - loss: 2.1175 - acc: 0.387 - 4s 2ms/step - loss: 2.1153 - acc: 0.3869 - val_loss: 2.3234 - val_acc: 0.3646\n",
      "Epoch 13/50\n",
      "2298/2298 [==============================] - ETA: 3s - loss: 1.9185 - acc: 0.410 - ETA: 3s - loss: 1.9404 - acc: 0.440 - ETA: 3s - loss: 1.9421 - acc: 0.450 - ETA: 2s - loss: 1.9109 - acc: 0.450 - ETA: 2s - loss: 1.9810 - acc: 0.434 - ETA: 2s - loss: 2.0238 - acc: 0.430 - ETA: 2s - loss: 2.0239 - acc: 0.431 - ETA: 2s - loss: 2.0589 - acc: 0.416 - ETA: 2s - loss: 2.0539 - acc: 0.413 - ETA: 2s - loss: 2.0566 - acc: 0.418 - ETA: 1s - loss: 2.0418 - acc: 0.420 - ETA: 1s - loss: 2.0516 - acc: 0.418 - ETA: 1s - loss: 2.0518 - acc: 0.413 - ETA: 1s - loss: 2.0501 - acc: 0.410 - ETA: 1s - loss: 2.0551 - acc: 0.407 - ETA: 1s - loss: 2.0658 - acc: 0.406 - ETA: 0s - loss: 2.0573 - acc: 0.409 - ETA: 0s - loss: 2.0515 - acc: 0.409 - ETA: 0s - loss: 2.0501 - acc: 0.409 - ETA: 0s - loss: 2.0514 - acc: 0.410 - ETA: 0s - loss: 2.0481 - acc: 0.409 - ETA: 0s - loss: 2.0321 - acc: 0.411 - 4s 2ms/step - loss: 2.0383 - acc: 0.4104 - val_loss: 2.3383 - val_acc: 0.3542\n",
      "Epoch 14/50\n",
      "2298/2298 [==============================] - ETA: 3s - loss: 1.8120 - acc: 0.400 - ETA: 3s - loss: 1.7796 - acc: 0.450 - ETA: 3s - loss: 1.7865 - acc: 0.453 - ETA: 3s - loss: 1.8024 - acc: 0.465 - ETA: 2s - loss: 1.8114 - acc: 0.450 - ETA: 2s - loss: 1.7910 - acc: 0.461 - ETA: 2s - loss: 1.8122 - acc: 0.464 - ETA: 2s - loss: 1.8297 - acc: 0.461 - ETA: 2s - loss: 1.8506 - acc: 0.453 - ETA: 2s - loss: 1.8541 - acc: 0.449 - ETA: 1s - loss: 1.8496 - acc: 0.450 - ETA: 1s - loss: 1.8397 - acc: 0.453 - ETA: 1s - loss: 1.8530 - acc: 0.448 - ETA: 1s - loss: 1.8514 - acc: 0.449 - ETA: 1s - loss: 1.8555 - acc: 0.449 - ETA: 1s - loss: 1.8541 - acc: 0.451 - ETA: 0s - loss: 1.8683 - acc: 0.449 - ETA: 0s - loss: 1.8685 - acc: 0.452 - ETA: 0s - loss: 1.8772 - acc: 0.451 - ETA: 0s - loss: 1.8877 - acc: 0.450 - ETA: 0s - loss: 1.9002 - acc: 0.444 - ETA: 0s - loss: 1.9000 - acc: 0.445 - 4s 2ms/step - loss: 1.8974 - acc: 0.4473 - val_loss: 2.3114 - val_acc: 0.3620\n",
      "Epoch 15/50\n",
      "2298/2298 [==============================] - ETA: 3s - loss: 1.9408 - acc: 0.450 - ETA: 3s - loss: 2.0617 - acc: 0.415 - ETA: 3s - loss: 2.0019 - acc: 0.416 - ETA: 2s - loss: 1.9410 - acc: 0.425 - ETA: 2s - loss: 1.9507 - acc: 0.414 - ETA: 2s - loss: 1.9347 - acc: 0.413 - ETA: 2s - loss: 1.9110 - acc: 0.421 - ETA: 2s - loss: 1.8744 - acc: 0.441 - ETA: 2s - loss: 1.8715 - acc: 0.444 - ETA: 1s - loss: 1.8598 - acc: 0.447 - ETA: 1s - loss: 1.8405 - acc: 0.452 - ETA: 1s - loss: 1.8457 - acc: 0.453 - ETA: 1s - loss: 1.8535 - acc: 0.450 - ETA: 1s - loss: 1.8637 - acc: 0.447 - ETA: 1s - loss: 1.8613 - acc: 0.450 - ETA: 1s - loss: 1.8648 - acc: 0.451 - ETA: 0s - loss: 1.8505 - acc: 0.454 - ETA: 0s - loss: 1.8624 - acc: 0.453 - ETA: 0s - loss: 1.8645 - acc: 0.451 - ETA: 0s - loss: 1.8471 - acc: 0.457 - ETA: 0s - loss: 1.8558 - acc: 0.452 - ETA: 0s - loss: 1.8615 - acc: 0.452 - 4s 2ms/step - loss: 1.8640 - acc: 0.4517 - val_loss: 2.2804 - val_acc: 0.3875\n",
      "Epoch 16/50\n",
      "2298/2298 [==============================] - ETA: 3s - loss: 1.8226 - acc: 0.450 - ETA: 3s - loss: 1.9122 - acc: 0.425 - ETA: 3s - loss: 1.8164 - acc: 0.453 - ETA: 3s - loss: 1.7893 - acc: 0.462 - ETA: 2s - loss: 1.7735 - acc: 0.478 - ETA: 2s - loss: 1.7773 - acc: 0.471 - ETA: 2s - loss: 1.7826 - acc: 0.465 - ETA: 2s - loss: 1.7674 - acc: 0.470 - ETA: 2s - loss: 1.7559 - acc: 0.476 - ETA: 2s - loss: 1.7664 - acc: 0.472 - ETA: 1s - loss: 1.7712 - acc: 0.473 - ETA: 1s - loss: 1.7599 - acc: 0.472 - ETA: 1s - loss: 1.7603 - acc: 0.478 - ETA: 1s - loss: 1.7708 - acc: 0.474 - ETA: 1s - loss: 1.7772 - acc: 0.470 - ETA: 1s - loss: 1.7692 - acc: 0.474 - ETA: 0s - loss: 1.7690 - acc: 0.474 - ETA: 0s - loss: 1.7814 - acc: 0.470 - ETA: 0s - loss: 1.7748 - acc: 0.474 - ETA: 0s - loss: 1.7781 - acc: 0.471 - ETA: 0s - loss: 1.7693 - acc: 0.472 - ETA: 0s - loss: 1.7723 - acc: 0.470 - 4s 2ms/step - loss: 1.7759 - acc: 0.4704 - val_loss: 2.3353 - val_acc: 0.3627\n",
      "Epoch 17/50\n"
     ]
    },
    {
     "name": "stdout",
     "output_type": "stream",
     "text": [
      "2298/2298 [==============================] - ETA: 3s - loss: 1.4303 - acc: 0.530 - ETA: 3s - loss: 1.5105 - acc: 0.500 - ETA: 3s - loss: 1.5165 - acc: 0.520 - ETA: 3s - loss: 1.4822 - acc: 0.512 - ETA: 2s - loss: 1.5030 - acc: 0.508 - ETA: 2s - loss: 1.5308 - acc: 0.503 - ETA: 2s - loss: 1.5667 - acc: 0.505 - ETA: 2s - loss: 1.5655 - acc: 0.505 - ETA: 2s - loss: 1.5722 - acc: 0.510 - ETA: 2s - loss: 1.5664 - acc: 0.514 - ETA: 1s - loss: 1.5726 - acc: 0.514 - ETA: 1s - loss: 1.5854 - acc: 0.512 - ETA: 1s - loss: 1.6018 - acc: 0.510 - ETA: 1s - loss: 1.5999 - acc: 0.510 - ETA: 1s - loss: 1.6066 - acc: 0.506 - ETA: 1s - loss: 1.6258 - acc: 0.501 - ETA: 0s - loss: 1.6249 - acc: 0.500 - ETA: 0s - loss: 1.6243 - acc: 0.499 - ETA: 0s - loss: 1.6193 - acc: 0.504 - ETA: 0s - loss: 1.6331 - acc: 0.503 - ETA: 0s - loss: 1.6405 - acc: 0.502 - ETA: 0s - loss: 1.6427 - acc: 0.502 - 4s 2ms/step - loss: 1.6554 - acc: 0.5000 - val_loss: 2.3080 - val_acc: 0.3764\n",
      "Epoch 18/50\n",
      "2298/2298 [==============================] - ETA: 3s - loss: 1.6247 - acc: 0.540 - ETA: 3s - loss: 1.5720 - acc: 0.550 - ETA: 3s - loss: 1.5497 - acc: 0.570 - ETA: 2s - loss: 1.5964 - acc: 0.542 - ETA: 2s - loss: 1.6293 - acc: 0.524 - ETA: 2s - loss: 1.5802 - acc: 0.541 - ETA: 2s - loss: 1.5943 - acc: 0.532 - ETA: 2s - loss: 1.6166 - acc: 0.530 - ETA: 2s - loss: 1.6177 - acc: 0.528 - ETA: 2s - loss: 1.6155 - acc: 0.530 - ETA: 1s - loss: 1.6001 - acc: 0.533 - ETA: 1s - loss: 1.5961 - acc: 0.528 - ETA: 1s - loss: 1.5830 - acc: 0.528 - ETA: 1s - loss: 1.5814 - acc: 0.525 - ETA: 1s - loss: 1.5911 - acc: 0.520 - ETA: 1s - loss: 1.5985 - acc: 0.520 - ETA: 0s - loss: 1.5843 - acc: 0.525 - ETA: 0s - loss: 1.5878 - acc: 0.522 - ETA: 0s - loss: 1.5827 - acc: 0.523 - ETA: 0s - loss: 1.5869 - acc: 0.521 - ETA: 0s - loss: 1.5764 - acc: 0.525 - ETA: 0s - loss: 1.5714 - acc: 0.527 - 4s 2ms/step - loss: 1.5750 - acc: 0.5244 - val_loss: 2.3580 - val_acc: 0.3875\n",
      "Epoch 19/50\n",
      "2298/2298 [==============================] - ETA: 3s - loss: 1.3900 - acc: 0.600 - ETA: 3s - loss: 1.4184 - acc: 0.590 - ETA: 3s - loss: 1.4785 - acc: 0.563 - ETA: 3s - loss: 1.4828 - acc: 0.557 - ETA: 2s - loss: 1.5224 - acc: 0.544 - ETA: 2s - loss: 1.5344 - acc: 0.535 - ETA: 2s - loss: 1.5084 - acc: 0.541 - ETA: 2s - loss: 1.5246 - acc: 0.535 - ETA: 2s - loss: 1.5314 - acc: 0.527 - ETA: 2s - loss: 1.5183 - acc: 0.537 - ETA: 2s - loss: 1.5103 - acc: 0.532 - ETA: 1s - loss: 1.5164 - acc: 0.530 - ETA: 1s - loss: 1.5051 - acc: 0.536 - ETA: 1s - loss: 1.4989 - acc: 0.542 - ETA: 1s - loss: 1.4869 - acc: 0.550 - ETA: 1s - loss: 1.4927 - acc: 0.547 - ETA: 1s - loss: 1.4910 - acc: 0.547 - ETA: 0s - loss: 1.4922 - acc: 0.550 - ETA: 0s - loss: 1.4934 - acc: 0.546 - ETA: 0s - loss: 1.5146 - acc: 0.544 - ETA: 0s - loss: 1.5117 - acc: 0.547 - ETA: 0s - loss: 1.5044 - acc: 0.549 - 5s 2ms/step - loss: 1.5077 - acc: 0.5479 - val_loss: 2.4855 - val_acc: 0.3607\n",
      "Epoch 20/50\n",
      "2298/2298 [==============================] - ETA: 3s - loss: 1.4723 - acc: 0.510 - ETA: 3s - loss: 1.4381 - acc: 0.550 - ETA: 3s - loss: 1.4933 - acc: 0.543 - ETA: 3s - loss: 1.5220 - acc: 0.547 - ETA: 2s - loss: 1.5171 - acc: 0.554 - ETA: 2s - loss: 1.4826 - acc: 0.548 - ETA: 2s - loss: 1.4221 - acc: 0.571 - ETA: 2s - loss: 1.3927 - acc: 0.582 - ETA: 2s - loss: 1.4009 - acc: 0.581 - ETA: 2s - loss: 1.4069 - acc: 0.577 - ETA: 1s - loss: 1.4119 - acc: 0.575 - ETA: 1s - loss: 1.4288 - acc: 0.565 - ETA: 1s - loss: 1.4201 - acc: 0.569 - ETA: 1s - loss: 1.4239 - acc: 0.566 - ETA: 1s - loss: 1.4352 - acc: 0.559 - ETA: 1s - loss: 1.4381 - acc: 0.562 - ETA: 0s - loss: 1.4420 - acc: 0.561 - ETA: 0s - loss: 1.4373 - acc: 0.565 - ETA: 0s - loss: 1.4424 - acc: 0.564 - ETA: 0s - loss: 1.4460 - acc: 0.564 - ETA: 0s - loss: 1.4455 - acc: 0.565 - ETA: 0s - loss: 1.4434 - acc: 0.566 - 4s 2ms/step - loss: 1.4441 - acc: 0.5666 - val_loss: 2.4174 - val_acc: 0.3633\n",
      "Epoch 21/50\n",
      "2298/2298 [==============================] - ETA: 3s - loss: 1.3065 - acc: 0.580 - ETA: 3s - loss: 1.3279 - acc: 0.585 - ETA: 3s - loss: 1.2860 - acc: 0.600 - ETA: 2s - loss: 1.3001 - acc: 0.587 - ETA: 2s - loss: 1.3160 - acc: 0.580 - ETA: 2s - loss: 1.3012 - acc: 0.586 - ETA: 2s - loss: 1.2923 - acc: 0.590 - ETA: 2s - loss: 1.3092 - acc: 0.581 - ETA: 2s - loss: 1.2770 - acc: 0.592 - ETA: 2s - loss: 1.3090 - acc: 0.579 - ETA: 1s - loss: 1.3247 - acc: 0.579 - ETA: 1s - loss: 1.3301 - acc: 0.581 - ETA: 1s - loss: 1.3519 - acc: 0.572 - ETA: 1s - loss: 1.3475 - acc: 0.574 - ETA: 1s - loss: 1.3352 - acc: 0.579 - ETA: 1s - loss: 1.3259 - acc: 0.585 - ETA: 0s - loss: 1.3229 - acc: 0.587 - ETA: 0s - loss: 1.3394 - acc: 0.582 - ETA: 0s - loss: 1.3296 - acc: 0.587 - ETA: 0s - loss: 1.3283 - acc: 0.590 - ETA: 0s - loss: 1.3513 - acc: 0.583 - ETA: 0s - loss: 1.3594 - acc: 0.579 - 4s 2ms/step - loss: 1.3650 - acc: 0.5796 - val_loss: 2.3987 - val_acc: 0.3888\n",
      "Epoch 22/50\n",
      "2298/2298 [==============================] - ETA: 3s - loss: 1.2193 - acc: 0.680 - ETA: 3s - loss: 1.2716 - acc: 0.640 - ETA: 3s - loss: 1.2963 - acc: 0.630 - ETA: 2s - loss: 1.2931 - acc: 0.630 - ETA: 2s - loss: 1.3367 - acc: 0.614 - ETA: 2s - loss: 1.3358 - acc: 0.610 - ETA: 2s - loss: 1.3349 - acc: 0.607 - ETA: 2s - loss: 1.3179 - acc: 0.608 - ETA: 2s - loss: 1.3189 - acc: 0.603 - ETA: 1s - loss: 1.3246 - acc: 0.602 - ETA: 1s - loss: 1.3342 - acc: 0.593 - ETA: 1s - loss: 1.3368 - acc: 0.594 - ETA: 1s - loss: 1.3316 - acc: 0.596 - ETA: 1s - loss: 1.3276 - acc: 0.597 - ETA: 1s - loss: 1.3329 - acc: 0.596 - ETA: 1s - loss: 1.3201 - acc: 0.598 - ETA: 0s - loss: 1.3211 - acc: 0.601 - ETA: 0s - loss: 1.3183 - acc: 0.605 - ETA: 0s - loss: 1.3192 - acc: 0.605 - ETA: 0s - loss: 1.3192 - acc: 0.604 - ETA: 0s - loss: 1.3218 - acc: 0.604 - ETA: 0s - loss: 1.3250 - acc: 0.604 - 4s 2ms/step - loss: 1.3262 - acc: 0.6040 - val_loss: 2.3808 - val_acc: 0.3810\n",
      "Epoch 23/50\n",
      "2298/2298 [==============================] - ETA: 3s - loss: 1.2390 - acc: 0.640 - ETA: 3s - loss: 1.1200 - acc: 0.675 - ETA: 3s - loss: 1.1694 - acc: 0.650 - ETA: 3s - loss: 1.1759 - acc: 0.635 - ETA: 2s - loss: 1.1689 - acc: 0.638 - ETA: 2s - loss: 1.1630 - acc: 0.636 - ETA: 2s - loss: 1.1435 - acc: 0.641 - ETA: 2s - loss: 1.1767 - acc: 0.628 - ETA: 2s - loss: 1.2000 - acc: 0.627 - ETA: 2s - loss: 1.2331 - acc: 0.626 - ETA: 1s - loss: 1.2326 - acc: 0.626 - ETA: 1s - loss: 1.2442 - acc: 0.625 - ETA: 1s - loss: 1.2519 - acc: 0.624 - ETA: 1s - loss: 1.2553 - acc: 0.625 - ETA: 1s - loss: 1.2668 - acc: 0.622 - ETA: 1s - loss: 1.2593 - acc: 0.623 - ETA: 0s - loss: 1.2574 - acc: 0.622 - ETA: 0s - loss: 1.2555 - acc: 0.623 - ETA: 0s - loss: 1.2591 - acc: 0.621 - ETA: 0s - loss: 1.2617 - acc: 0.621 - ETA: 0s - loss: 1.2584 - acc: 0.621 - ETA: 0s - loss: 1.2552 - acc: 0.624 - 4s 2ms/step - loss: 1.2499 - acc: 0.6245 - val_loss: 2.5749 - val_acc: 0.3627\n",
      "Epoch 24/50\n",
      "2298/2298 [==============================] - ETA: 3s - loss: 1.1640 - acc: 0.660 - ETA: 3s - loss: 1.2065 - acc: 0.635 - ETA: 3s - loss: 1.1949 - acc: 0.633 - ETA: 3s - loss: 1.1886 - acc: 0.630 - ETA: 3s - loss: 1.2033 - acc: 0.626 - ETA: 2s - loss: 1.1989 - acc: 0.630 - ETA: 2s - loss: 1.2028 - acc: 0.632 - ETA: 2s - loss: 1.2039 - acc: 0.633 - ETA: 2s - loss: 1.2273 - acc: 0.625 - ETA: 2s - loss: 1.2302 - acc: 0.623 - ETA: 1s - loss: 1.2025 - acc: 0.631 - ETA: 1s - loss: 1.2196 - acc: 0.627 - ETA: 1s - loss: 1.2373 - acc: 0.626 - ETA: 1s - loss: 1.2422 - acc: 0.624 - ETA: 1s - loss: 1.2412 - acc: 0.628 - ETA: 1s - loss: 1.2524 - acc: 0.622 - ETA: 0s - loss: 1.2503 - acc: 0.624 - ETA: 0s - loss: 1.2500 - acc: 0.626 - ETA: 0s - loss: 1.2458 - acc: 0.626 - ETA: 0s - loss: 1.2446 - acc: 0.628 - ETA: 0s - loss: 1.2395 - acc: 0.628 - ETA: 0s - loss: 1.2389 - acc: 0.626 - 4s 2ms/step - loss: 1.2414 - acc: 0.6253 - val_loss: 2.4741 - val_acc: 0.3607\n",
      "Epoch 25/50\n"
     ]
    },
    {
     "name": "stdout",
     "output_type": "stream",
     "text": [
      "2298/2298 [==============================] - ETA: 3s - loss: 1.3211 - acc: 0.590 - ETA: 3s - loss: 1.2458 - acc: 0.620 - ETA: 3s - loss: 1.2211 - acc: 0.630 - ETA: 2s - loss: 1.1446 - acc: 0.657 - ETA: 2s - loss: 1.1236 - acc: 0.658 - ETA: 2s - loss: 1.1177 - acc: 0.663 - ETA: 2s - loss: 1.1240 - acc: 0.665 - ETA: 2s - loss: 1.1263 - acc: 0.666 - ETA: 2s - loss: 1.1216 - acc: 0.665 - ETA: 1s - loss: 1.1473 - acc: 0.659 - ETA: 1s - loss: 1.1380 - acc: 0.660 - ETA: 1s - loss: 1.1510 - acc: 0.655 - ETA: 1s - loss: 1.1649 - acc: 0.650 - ETA: 1s - loss: 1.1659 - acc: 0.647 - ETA: 1s - loss: 1.1673 - acc: 0.649 - ETA: 1s - loss: 1.1640 - acc: 0.649 - ETA: 0s - loss: 1.1563 - acc: 0.651 - ETA: 0s - loss: 1.1603 - acc: 0.650 - ETA: 0s - loss: 1.1599 - acc: 0.648 - ETA: 0s - loss: 1.1602 - acc: 0.650 - ETA: 0s - loss: 1.1647 - acc: 0.647 - ETA: 0s - loss: 1.1703 - acc: 0.646 - 4s 2ms/step - loss: 1.1677 - acc: 0.6493 - val_loss: 2.6344 - val_acc: 0.3744\n",
      "Epoch 26/50\n",
      "2298/2298 [==============================] - ETA: 3s - loss: 1.2642 - acc: 0.640 - ETA: 3s - loss: 1.1669 - acc: 0.660 - ETA: 3s - loss: 1.1807 - acc: 0.646 - ETA: 3s - loss: 1.1669 - acc: 0.660 - ETA: 3s - loss: 1.1445 - acc: 0.666 - ETA: 2s - loss: 1.1346 - acc: 0.671 - ETA: 2s - loss: 1.1235 - acc: 0.675 - ETA: 2s - loss: 1.0936 - acc: 0.683 - ETA: 2s - loss: 1.0620 - acc: 0.687 - ETA: 2s - loss: 1.0596 - acc: 0.689 - ETA: 2s - loss: 1.0490 - acc: 0.691 - ETA: 1s - loss: 1.0467 - acc: 0.687 - ETA: 1s - loss: 1.0765 - acc: 0.675 - ETA: 1s - loss: 1.0739 - acc: 0.678 - ETA: 1s - loss: 1.0711 - acc: 0.678 - ETA: 1s - loss: 1.0608 - acc: 0.682 - ETA: 1s - loss: 1.0471 - acc: 0.684 - ETA: 0s - loss: 1.0506 - acc: 0.682 - ETA: 0s - loss: 1.0665 - acc: 0.678 - ETA: 0s - loss: 1.0793 - acc: 0.674 - ETA: 0s - loss: 1.0784 - acc: 0.674 - ETA: 0s - loss: 1.0790 - acc: 0.673 - 5s 2ms/step - loss: 1.0816 - acc: 0.6736 - val_loss: 2.6305 - val_acc: 0.3679\n",
      "Epoch 27/50\n",
      "2298/2298 [==============================] - ETA: 3s - loss: 0.8862 - acc: 0.690 - ETA: 3s - loss: 1.0341 - acc: 0.645 - ETA: 3s - loss: 1.0653 - acc: 0.653 - ETA: 2s - loss: 1.0155 - acc: 0.665 - ETA: 2s - loss: 0.9770 - acc: 0.676 - ETA: 2s - loss: 0.9608 - acc: 0.688 - ETA: 2s - loss: 0.9627 - acc: 0.685 - ETA: 2s - loss: 0.9838 - acc: 0.685 - ETA: 2s - loss: 0.9667 - acc: 0.691 - ETA: 1s - loss: 0.9828 - acc: 0.689 - ETA: 1s - loss: 0.9989 - acc: 0.684 - ETA: 1s - loss: 0.9971 - acc: 0.685 - ETA: 1s - loss: 1.0062 - acc: 0.686 - ETA: 1s - loss: 1.0062 - acc: 0.687 - ETA: 1s - loss: 1.0045 - acc: 0.689 - ETA: 1s - loss: 1.0133 - acc: 0.686 - ETA: 0s - loss: 1.0087 - acc: 0.687 - ETA: 0s - loss: 1.0089 - acc: 0.685 - ETA: 0s - loss: 1.0233 - acc: 0.682 - ETA: 0s - loss: 1.0284 - acc: 0.679 - ETA: 0s - loss: 1.0242 - acc: 0.680 - ETA: 0s - loss: 1.0303 - acc: 0.678 - 4s 2ms/step - loss: 1.0318 - acc: 0.6771 - val_loss: 2.6199 - val_acc: 0.3633\n",
      "Epoch 28/50\n",
      "2298/2298 [==============================] - ETA: 3s - loss: 1.2833 - acc: 0.590 - ETA: 3s - loss: 1.0887 - acc: 0.670 - ETA: 3s - loss: 1.1015 - acc: 0.666 - ETA: 2s - loss: 1.0452 - acc: 0.680 - ETA: 2s - loss: 1.0189 - acc: 0.688 - ETA: 2s - loss: 1.0229 - acc: 0.685 - ETA: 2s - loss: 1.0280 - acc: 0.695 - ETA: 2s - loss: 1.0240 - acc: 0.691 - ETA: 2s - loss: 1.0225 - acc: 0.692 - ETA: 2s - loss: 1.0244 - acc: 0.690 - ETA: 1s - loss: 1.0276 - acc: 0.684 - ETA: 1s - loss: 1.0242 - acc: 0.680 - ETA: 1s - loss: 1.0192 - acc: 0.681 - ETA: 1s - loss: 1.0078 - acc: 0.682 - ETA: 1s - loss: 1.0006 - acc: 0.686 - ETA: 1s - loss: 1.0083 - acc: 0.683 - ETA: 0s - loss: 1.0100 - acc: 0.682 - ETA: 0s - loss: 1.0276 - acc: 0.677 - ETA: 0s - loss: 1.0300 - acc: 0.678 - ETA: 0s - loss: 1.0314 - acc: 0.677 - ETA: 0s - loss: 1.0296 - acc: 0.678 - ETA: 0s - loss: 1.0399 - acc: 0.676 - 4s 2ms/step - loss: 1.0497 - acc: 0.6732 - val_loss: 2.5099 - val_acc: 0.3673\n",
      "Epoch 29/50\n",
      "2298/2298 [==============================] - ETA: 3s - loss: 1.0293 - acc: 0.750 - ETA: 3s - loss: 0.9406 - acc: 0.735 - ETA: 3s - loss: 0.9324 - acc: 0.730 - ETA: 3s - loss: 0.9665 - acc: 0.717 - ETA: 3s - loss: 0.9502 - acc: 0.708 - ETA: 2s - loss: 0.9228 - acc: 0.716 - ETA: 2s - loss: 0.9179 - acc: 0.715 - ETA: 2s - loss: 0.9328 - acc: 0.712 - ETA: 2s - loss: 0.9390 - acc: 0.718 - ETA: 2s - loss: 0.9572 - acc: 0.713 - ETA: 2s - loss: 0.9695 - acc: 0.704 - ETA: 1s - loss: 0.9764 - acc: 0.702 - ETA: 1s - loss: 0.9841 - acc: 0.699 - ETA: 1s - loss: 0.9858 - acc: 0.697 - ETA: 1s - loss: 1.0021 - acc: 0.691 - ETA: 1s - loss: 0.9896 - acc: 0.692 - ETA: 1s - loss: 0.9904 - acc: 0.691 - ETA: 0s - loss: 0.9869 - acc: 0.696 - ETA: 0s - loss: 0.9824 - acc: 0.698 - ETA: 0s - loss: 0.9778 - acc: 0.700 - ETA: 0s - loss: 0.9732 - acc: 0.701 - ETA: 0s - loss: 0.9799 - acc: 0.699 - 4s 2ms/step - loss: 0.9854 - acc: 0.6976 - val_loss: 2.5104 - val_acc: 0.3725\n",
      "Epoch 30/50\n",
      "2298/2298 [==============================] - ETA: 3s - loss: 0.8988 - acc: 0.680 - ETA: 3s - loss: 0.9311 - acc: 0.685 - ETA: 3s - loss: 0.8781 - acc: 0.706 - ETA: 2s - loss: 0.8360 - acc: 0.722 - ETA: 2s - loss: 0.8184 - acc: 0.742 - ETA: 2s - loss: 0.8586 - acc: 0.735 - ETA: 2s - loss: 0.8696 - acc: 0.734 - ETA: 2s - loss: 0.8653 - acc: 0.737 - ETA: 2s - loss: 0.8565 - acc: 0.744 - ETA: 2s - loss: 0.8587 - acc: 0.738 - ETA: 1s - loss: 0.8649 - acc: 0.735 - ETA: 1s - loss: 0.8610 - acc: 0.737 - ETA: 1s - loss: 0.8790 - acc: 0.736 - ETA: 1s - loss: 0.8845 - acc: 0.738 - ETA: 1s - loss: 0.9130 - acc: 0.730 - ETA: 1s - loss: 0.9218 - acc: 0.725 - ETA: 0s - loss: 0.9136 - acc: 0.726 - ETA: 0s - loss: 0.9190 - acc: 0.727 - ETA: 0s - loss: 0.9189 - acc: 0.726 - ETA: 0s - loss: 0.9255 - acc: 0.721 - ETA: 0s - loss: 0.9296 - acc: 0.719 - ETA: 0s - loss: 0.9329 - acc: 0.717 - 4s 2ms/step - loss: 0.9309 - acc: 0.7180 - val_loss: 2.6951 - val_acc: 0.3633\n",
      "Epoch 31/50\n",
      "2298/2298 [==============================] - ETA: 3s - loss: 0.9721 - acc: 0.680 - ETA: 3s - loss: 1.0657 - acc: 0.680 - ETA: 3s - loss: 1.0099 - acc: 0.686 - ETA: 3s - loss: 0.9839 - acc: 0.697 - ETA: 2s - loss: 1.0519 - acc: 0.680 - ETA: 2s - loss: 1.0275 - acc: 0.683 - ETA: 2s - loss: 1.0153 - acc: 0.681 - ETA: 2s - loss: 0.9928 - acc: 0.685 - ETA: 2s - loss: 1.0062 - acc: 0.688 - ETA: 2s - loss: 1.0054 - acc: 0.691 - ETA: 1s - loss: 0.9988 - acc: 0.692 - ETA: 1s - loss: 0.9996 - acc: 0.688 - ETA: 1s - loss: 0.9888 - acc: 0.691 - ETA: 1s - loss: 0.9745 - acc: 0.697 - ETA: 1s - loss: 0.9719 - acc: 0.697 - ETA: 1s - loss: 0.9578 - acc: 0.699 - ETA: 0s - loss: 0.9634 - acc: 0.703 - ETA: 0s - loss: 0.9549 - acc: 0.705 - ETA: 0s - loss: 0.9569 - acc: 0.704 - ETA: 0s - loss: 0.9595 - acc: 0.704 - ETA: 0s - loss: 0.9565 - acc: 0.705 - ETA: 0s - loss: 0.9550 - acc: 0.706 - 4s 2ms/step - loss: 0.9504 - acc: 0.7080 - val_loss: 2.6745 - val_acc: 0.3757\n",
      "Epoch 32/50\n",
      "2298/2298 [==============================] - ETA: 3s - loss: 1.0255 - acc: 0.690 - ETA: 3s - loss: 0.9824 - acc: 0.705 - ETA: 3s - loss: 0.8663 - acc: 0.743 - ETA: 2s - loss: 0.8802 - acc: 0.742 - ETA: 2s - loss: 0.8432 - acc: 0.748 - ETA: 2s - loss: 0.8598 - acc: 0.740 - ETA: 2s - loss: 0.8592 - acc: 0.742 - ETA: 2s - loss: 0.8596 - acc: 0.741 - ETA: 2s - loss: 0.8663 - acc: 0.740 - ETA: 2s - loss: 0.8761 - acc: 0.737 - ETA: 1s - loss: 0.8803 - acc: 0.732 - ETA: 1s - loss: 0.8825 - acc: 0.730 - ETA: 1s - loss: 0.8866 - acc: 0.728 - ETA: 1s - loss: 0.8864 - acc: 0.727 - ETA: 1s - loss: 0.8820 - acc: 0.725 - ETA: 1s - loss: 0.8897 - acc: 0.723 - ETA: 0s - loss: 0.8929 - acc: 0.722 - ETA: 0s - loss: 0.8958 - acc: 0.722 - ETA: 0s - loss: 0.9026 - acc: 0.721 - ETA: 0s - loss: 0.9041 - acc: 0.721 - ETA: 0s - loss: 0.8943 - acc: 0.724 - ETA: 0s - loss: 0.8921 - acc: 0.725 - 4s 2ms/step - loss: 0.8847 - acc: 0.7267 - val_loss: 3.0395 - val_acc: 0.3673\n",
      "Epoch 33/50\n"
     ]
    },
    {
     "name": "stdout",
     "output_type": "stream",
     "text": [
      "2298/2298 [==============================] - ETA: 3s - loss: 0.7974 - acc: 0.720 - ETA: 3s - loss: 0.8591 - acc: 0.750 - ETA: 3s - loss: 0.8555 - acc: 0.750 - ETA: 2s - loss: 0.8992 - acc: 0.737 - ETA: 2s - loss: 0.9186 - acc: 0.734 - ETA: 2s - loss: 0.8980 - acc: 0.733 - ETA: 2s - loss: 0.8694 - acc: 0.741 - ETA: 2s - loss: 0.8456 - acc: 0.745 - ETA: 2s - loss: 0.8803 - acc: 0.735 - ETA: 2s - loss: 0.8778 - acc: 0.737 - ETA: 1s - loss: 0.8946 - acc: 0.735 - ETA: 1s - loss: 0.9035 - acc: 0.733 - ETA: 1s - loss: 0.9067 - acc: 0.731 - ETA: 1s - loss: 0.8973 - acc: 0.733 - ETA: 1s - loss: 0.9027 - acc: 0.731 - ETA: 1s - loss: 0.8958 - acc: 0.727 - ETA: 0s - loss: 0.8884 - acc: 0.728 - ETA: 0s - loss: 0.8834 - acc: 0.730 - ETA: 0s - loss: 0.8807 - acc: 0.729 - ETA: 0s - loss: 0.8693 - acc: 0.733 - ETA: 0s - loss: 0.8787 - acc: 0.730 - ETA: 0s - loss: 0.8714 - acc: 0.730 - 4s 2ms/step - loss: 0.8649 - acc: 0.7328 - val_loss: 2.9041 - val_acc: 0.3712\n",
      "Epoch 34/50\n",
      "2298/2298 [==============================] - ETA: 3s - loss: 0.6674 - acc: 0.780 - ETA: 3s - loss: 0.7954 - acc: 0.760 - ETA: 3s - loss: 0.7471 - acc: 0.776 - ETA: 3s - loss: 0.7298 - acc: 0.772 - ETA: 2s - loss: 0.7421 - acc: 0.764 - ETA: 2s - loss: 0.7659 - acc: 0.753 - ETA: 2s - loss: 0.7765 - acc: 0.755 - ETA: 2s - loss: 0.8198 - acc: 0.750 - ETA: 2s - loss: 0.8327 - acc: 0.743 - ETA: 2s - loss: 0.8522 - acc: 0.740 - ETA: 1s - loss: 0.8433 - acc: 0.740 - ETA: 1s - loss: 0.8529 - acc: 0.735 - ETA: 1s - loss: 0.8341 - acc: 0.740 - ETA: 1s - loss: 0.8347 - acc: 0.739 - ETA: 1s - loss: 0.8437 - acc: 0.739 - ETA: 1s - loss: 0.8322 - acc: 0.746 - ETA: 0s - loss: 0.8385 - acc: 0.745 - ETA: 0s - loss: 0.8435 - acc: 0.744 - ETA: 0s - loss: 0.8386 - acc: 0.744 - ETA: 0s - loss: 0.8447 - acc: 0.741 - ETA: 0s - loss: 0.8512 - acc: 0.738 - ETA: 0s - loss: 0.8563 - acc: 0.736 - 4s 2ms/step - loss: 0.8660 - acc: 0.7315 - val_loss: 2.6331 - val_acc: 0.3659\n",
      "Epoch 35/50\n",
      "2298/2298 [==============================] - ETA: 3s - loss: 0.9777 - acc: 0.640 - ETA: 3s - loss: 0.8275 - acc: 0.710 - ETA: 3s - loss: 0.7806 - acc: 0.726 - ETA: 2s - loss: 0.7736 - acc: 0.737 - ETA: 2s - loss: 0.7813 - acc: 0.736 - ETA: 2s - loss: 0.7820 - acc: 0.738 - ETA: 2s - loss: 0.7997 - acc: 0.730 - ETA: 2s - loss: 0.8179 - acc: 0.730 - ETA: 2s - loss: 0.8272 - acc: 0.733 - ETA: 1s - loss: 0.8066 - acc: 0.741 - ETA: 1s - loss: 0.8162 - acc: 0.745 - ETA: 1s - loss: 0.8261 - acc: 0.746 - ETA: 1s - loss: 0.8186 - acc: 0.746 - ETA: 1s - loss: 0.8394 - acc: 0.743 - ETA: 1s - loss: 0.8380 - acc: 0.742 - ETA: 1s - loss: 0.8357 - acc: 0.742 - ETA: 0s - loss: 0.8380 - acc: 0.741 - ETA: 0s - loss: 0.8276 - acc: 0.746 - ETA: 0s - loss: 0.8274 - acc: 0.746 - ETA: 0s - loss: 0.8256 - acc: 0.745 - ETA: 0s - loss: 0.8265 - acc: 0.743 - ETA: 0s - loss: 0.8177 - acc: 0.745 - 4s 2ms/step - loss: 0.8240 - acc: 0.7433 - val_loss: 2.7495 - val_acc: 0.3646\n",
      "Epoch 36/50\n",
      "2298/2298 [==============================] - ETA: 3s - loss: 0.8373 - acc: 0.700 - ETA: 3s - loss: 0.8187 - acc: 0.710 - ETA: 3s - loss: 0.8109 - acc: 0.733 - ETA: 2s - loss: 0.8070 - acc: 0.740 - ETA: 2s - loss: 0.8189 - acc: 0.736 - ETA: 2s - loss: 0.8058 - acc: 0.743 - ETA: 2s - loss: 0.7989 - acc: 0.740 - ETA: 2s - loss: 0.7805 - acc: 0.743 - ETA: 2s - loss: 0.7693 - acc: 0.755 - ETA: 2s - loss: 0.7767 - acc: 0.754 - ETA: 1s - loss: 0.7719 - acc: 0.755 - ETA: 1s - loss: 0.7626 - acc: 0.755 - ETA: 1s - loss: 0.7537 - acc: 0.756 - ETA: 1s - loss: 0.7534 - acc: 0.759 - ETA: 1s - loss: 0.7400 - acc: 0.764 - ETA: 1s - loss: 0.7373 - acc: 0.767 - ETA: 0s - loss: 0.7399 - acc: 0.766 - ETA: 0s - loss: 0.7379 - acc: 0.766 - ETA: 0s - loss: 0.7503 - acc: 0.764 - ETA: 0s - loss: 0.7501 - acc: 0.765 - ETA: 0s - loss: 0.7610 - acc: 0.761 - ETA: 0s - loss: 0.7569 - acc: 0.763 - 4s 2ms/step - loss: 0.7509 - acc: 0.7654 - val_loss: 2.9422 - val_acc: 0.3699\n",
      "Epoch 37/50\n",
      "2298/2298 [==============================] - ETA: 3s - loss: 0.6322 - acc: 0.810 - ETA: 3s - loss: 0.6683 - acc: 0.800 - ETA: 3s - loss: 0.6764 - acc: 0.786 - ETA: 2s - loss: 0.7009 - acc: 0.782 - ETA: 2s - loss: 0.7064 - acc: 0.782 - ETA: 2s - loss: 0.7104 - acc: 0.778 - ETA: 2s - loss: 0.6778 - acc: 0.790 - ETA: 2s - loss: 0.7071 - acc: 0.782 - ETA: 2s - loss: 0.7029 - acc: 0.783 - ETA: 1s - loss: 0.6874 - acc: 0.785 - ETA: 1s - loss: 0.7056 - acc: 0.781 - ETA: 1s - loss: 0.6921 - acc: 0.787 - ETA: 1s - loss: 0.6815 - acc: 0.790 - ETA: 1s - loss: 0.6853 - acc: 0.788 - ETA: 1s - loss: 0.6891 - acc: 0.783 - ETA: 1s - loss: 0.6927 - acc: 0.780 - ETA: 0s - loss: 0.7087 - acc: 0.777 - ETA: 0s - loss: 0.7098 - acc: 0.778 - ETA: 0s - loss: 0.7149 - acc: 0.776 - ETA: 0s - loss: 0.7146 - acc: 0.778 - ETA: 0s - loss: 0.7125 - acc: 0.777 - ETA: 0s - loss: 0.7127 - acc: 0.777 - 4s 2ms/step - loss: 0.7101 - acc: 0.7772 - val_loss: 2.8853 - val_acc: 0.3757\n",
      "Epoch 38/50\n",
      "2298/2298 [==============================] - ETA: 3s - loss: 0.4775 - acc: 0.840 - ETA: 3s - loss: 0.6106 - acc: 0.800 - ETA: 3s - loss: 0.5459 - acc: 0.820 - ETA: 2s - loss: 0.5899 - acc: 0.807 - ETA: 2s - loss: 0.6137 - acc: 0.802 - ETA: 2s - loss: 0.5936 - acc: 0.816 - ETA: 2s - loss: 0.6252 - acc: 0.801 - ETA: 2s - loss: 0.6442 - acc: 0.800 - ETA: 2s - loss: 0.6618 - acc: 0.794 - ETA: 2s - loss: 0.6684 - acc: 0.792 - ETA: 1s - loss: 0.6732 - acc: 0.789 - ETA: 1s - loss: 0.6768 - acc: 0.788 - ETA: 1s - loss: 0.6969 - acc: 0.780 - ETA: 1s - loss: 0.7032 - acc: 0.780 - ETA: 1s - loss: 0.7031 - acc: 0.779 - ETA: 1s - loss: 0.7111 - acc: 0.777 - ETA: 0s - loss: 0.7103 - acc: 0.777 - ETA: 0s - loss: 0.7102 - acc: 0.778 - ETA: 0s - loss: 0.7182 - acc: 0.779 - ETA: 0s - loss: 0.7242 - acc: 0.777 - ETA: 0s - loss: 0.7246 - acc: 0.774 - ETA: 0s - loss: 0.7346 - acc: 0.771 - 4s 2ms/step - loss: 0.7480 - acc: 0.7681 - val_loss: 2.9560 - val_acc: 0.3673\n",
      "Epoch 39/50\n",
      "2298/2298 [==============================] - ETA: 3s - loss: 0.8643 - acc: 0.710 - ETA: 3s - loss: 0.7893 - acc: 0.760 - ETA: 3s - loss: 0.7087 - acc: 0.793 - ETA: 2s - loss: 0.7599 - acc: 0.772 - ETA: 2s - loss: 0.7806 - acc: 0.760 - ETA: 2s - loss: 0.7510 - acc: 0.768 - ETA: 2s - loss: 0.7318 - acc: 0.771 - ETA: 2s - loss: 0.7372 - acc: 0.770 - ETA: 2s - loss: 0.7310 - acc: 0.776 - ETA: 1s - loss: 0.7236 - acc: 0.778 - ETA: 1s - loss: 0.7272 - acc: 0.776 - ETA: 1s - loss: 0.7224 - acc: 0.779 - ETA: 1s - loss: 0.7228 - acc: 0.777 - ETA: 1s - loss: 0.7182 - acc: 0.778 - ETA: 1s - loss: 0.7165 - acc: 0.778 - ETA: 1s - loss: 0.7157 - acc: 0.775 - ETA: 0s - loss: 0.7142 - acc: 0.776 - ETA: 0s - loss: 0.7181 - acc: 0.775 - ETA: 0s - loss: 0.7263 - acc: 0.770 - ETA: 0s - loss: 0.7331 - acc: 0.768 - ETA: 0s - loss: 0.7314 - acc: 0.770 - ETA: 0s - loss: 0.7325 - acc: 0.769 - 4s 2ms/step - loss: 0.7251 - acc: 0.7720 - val_loss: 2.8809 - val_acc: 0.3803\n",
      "Epoch 40/50\n",
      "2298/2298 [==============================] - ETA: 3s - loss: 0.5191 - acc: 0.840 - ETA: 3s - loss: 0.6708 - acc: 0.785 - ETA: 3s - loss: 0.6945 - acc: 0.783 - ETA: 2s - loss: 0.6865 - acc: 0.785 - ETA: 2s - loss: 0.7256 - acc: 0.782 - ETA: 2s - loss: 0.7307 - acc: 0.776 - ETA: 2s - loss: 0.7262 - acc: 0.777 - ETA: 2s - loss: 0.7326 - acc: 0.771 - ETA: 2s - loss: 0.7302 - acc: 0.772 - ETA: 1s - loss: 0.7165 - acc: 0.776 - ETA: 1s - loss: 0.7104 - acc: 0.780 - ETA: 1s - loss: 0.7047 - acc: 0.783 - ETA: 1s - loss: 0.7034 - acc: 0.783 - ETA: 1s - loss: 0.6943 - acc: 0.787 - ETA: 1s - loss: 0.6881 - acc: 0.788 - ETA: 1s - loss: 0.6995 - acc: 0.786 - ETA: 0s - loss: 0.6796 - acc: 0.791 - ETA: 0s - loss: 0.6743 - acc: 0.792 - ETA: 0s - loss: 0.6772 - acc: 0.792 - ETA: 0s - loss: 0.6702 - acc: 0.796 - ETA: 0s - loss: 0.6705 - acc: 0.796 - ETA: 0s - loss: 0.6631 - acc: 0.798 - 4s 2ms/step - loss: 0.6678 - acc: 0.7981 - val_loss: 3.0077 - val_acc: 0.3640\n",
      "Epoch 41/50\n"
     ]
    },
    {
     "name": "stdout",
     "output_type": "stream",
     "text": [
      "2298/2298 [==============================] - ETA: 3s - loss: 0.6860 - acc: 0.750 - ETA: 3s - loss: 0.6013 - acc: 0.765 - ETA: 3s - loss: 0.6812 - acc: 0.766 - ETA: 2s - loss: 0.6709 - acc: 0.777 - ETA: 2s - loss: 0.6868 - acc: 0.788 - ETA: 2s - loss: 0.6784 - acc: 0.795 - ETA: 2s - loss: 0.6752 - acc: 0.800 - ETA: 2s - loss: 0.6400 - acc: 0.813 - ETA: 2s - loss: 0.6592 - acc: 0.810 - ETA: 1s - loss: 0.6431 - acc: 0.811 - ETA: 1s - loss: 0.6708 - acc: 0.801 - ETA: 1s - loss: 0.6742 - acc: 0.795 - ETA: 1s - loss: 0.6715 - acc: 0.796 - ETA: 1s - loss: 0.6764 - acc: 0.795 - ETA: 1s - loss: 0.6768 - acc: 0.796 - ETA: 1s - loss: 0.6954 - acc: 0.791 - ETA: 0s - loss: 0.6975 - acc: 0.789 - ETA: 0s - loss: 0.7112 - acc: 0.784 - ETA: 0s - loss: 0.7181 - acc: 0.783 - ETA: 0s - loss: 0.7240 - acc: 0.783 - ETA: 0s - loss: 0.7287 - acc: 0.779 - ETA: 0s - loss: 0.7195 - acc: 0.781 - 4s 2ms/step - loss: 0.7134 - acc: 0.7842 - val_loss: 2.9802 - val_acc: 0.3725\n",
      "Epoch 42/50\n",
      "2298/2298 [==============================] - ETA: 3s - loss: 0.6933 - acc: 0.790 - ETA: 3s - loss: 0.6099 - acc: 0.825 - ETA: 3s - loss: 0.6430 - acc: 0.813 - ETA: 2s - loss: 0.6454 - acc: 0.805 - ETA: 2s - loss: 0.6589 - acc: 0.796 - ETA: 2s - loss: 0.6478 - acc: 0.795 - ETA: 2s - loss: 0.6408 - acc: 0.797 - ETA: 2s - loss: 0.6280 - acc: 0.803 - ETA: 2s - loss: 0.6146 - acc: 0.808 - ETA: 2s - loss: 0.6311 - acc: 0.802 - ETA: 1s - loss: 0.6313 - acc: 0.802 - ETA: 1s - loss: 0.6375 - acc: 0.801 - ETA: 1s - loss: 0.6334 - acc: 0.801 - ETA: 1s - loss: 0.6279 - acc: 0.801 - ETA: 1s - loss: 0.6226 - acc: 0.805 - ETA: 1s - loss: 0.6224 - acc: 0.806 - ETA: 0s - loss: 0.6174 - acc: 0.807 - ETA: 0s - loss: 0.6118 - acc: 0.807 - ETA: 0s - loss: 0.6057 - acc: 0.809 - ETA: 0s - loss: 0.5999 - acc: 0.810 - ETA: 0s - loss: 0.5981 - acc: 0.811 - ETA: 0s - loss: 0.6009 - acc: 0.809 - 4s 2ms/step - loss: 0.6116 - acc: 0.8081 - val_loss: 3.2253 - val_acc: 0.3705\n",
      "Epoch 43/50\n",
      "2298/2298 [==============================] - ETA: 3s - loss: 0.6770 - acc: 0.780 - ETA: 3s - loss: 0.6047 - acc: 0.800 - ETA: 3s - loss: 0.5242 - acc: 0.826 - ETA: 3s - loss: 0.5584 - acc: 0.815 - ETA: 3s - loss: 0.5820 - acc: 0.806 - ETA: 2s - loss: 0.5971 - acc: 0.808 - ETA: 2s - loss: 0.6137 - acc: 0.801 - ETA: 2s - loss: 0.6029 - acc: 0.800 - ETA: 2s - loss: 0.6162 - acc: 0.800 - ETA: 2s - loss: 0.6221 - acc: 0.796 - ETA: 2s - loss: 0.6156 - acc: 0.798 - ETA: 1s - loss: 0.6264 - acc: 0.796 - ETA: 1s - loss: 0.6223 - acc: 0.797 - ETA: 1s - loss: 0.6197 - acc: 0.800 - ETA: 1s - loss: 0.6186 - acc: 0.799 - ETA: 1s - loss: 0.6173 - acc: 0.801 - ETA: 0s - loss: 0.6204 - acc: 0.803 - ETA: 0s - loss: 0.6269 - acc: 0.805 - ETA: 0s - loss: 0.6350 - acc: 0.804 - ETA: 0s - loss: 0.6327 - acc: 0.803 - ETA: 0s - loss: 0.6336 - acc: 0.802 - ETA: 0s - loss: 0.6442 - acc: 0.800 - 4s 2ms/step - loss: 0.6550 - acc: 0.7985 - val_loss: 3.0143 - val_acc: 0.3496\n",
      "Epoch 44/50\n",
      "2298/2298 [==============================] - ETA: 3s - loss: 0.7038 - acc: 0.800 - ETA: 3s - loss: 0.7177 - acc: 0.780 - ETA: 3s - loss: 0.7458 - acc: 0.763 - ETA: 2s - loss: 0.6754 - acc: 0.780 - ETA: 2s - loss: 0.6460 - acc: 0.798 - ETA: 2s - loss: 0.6503 - acc: 0.795 - ETA: 2s - loss: 0.6461 - acc: 0.795 - ETA: 2s - loss: 0.6352 - acc: 0.800 - ETA: 2s - loss: 0.6292 - acc: 0.798 - ETA: 1s - loss: 0.6190 - acc: 0.805 - ETA: 1s - loss: 0.6165 - acc: 0.804 - ETA: 1s - loss: 0.6173 - acc: 0.804 - ETA: 1s - loss: 0.6199 - acc: 0.802 - ETA: 1s - loss: 0.6226 - acc: 0.803 - ETA: 1s - loss: 0.6225 - acc: 0.803 - ETA: 1s - loss: 0.6163 - acc: 0.806 - ETA: 0s - loss: 0.6152 - acc: 0.805 - ETA: 0s - loss: 0.6222 - acc: 0.803 - ETA: 0s - loss: 0.6214 - acc: 0.804 - ETA: 0s - loss: 0.6257 - acc: 0.802 - ETA: 0s - loss: 0.6265 - acc: 0.802 - ETA: 0s - loss: 0.6273 - acc: 0.803 - 4s 2ms/step - loss: 0.6289 - acc: 0.8020 - val_loss: 2.9927 - val_acc: 0.3692\n",
      "Epoch 45/50\n",
      "2298/2298 [==============================] - ETA: 3s - loss: 0.9116 - acc: 0.700 - ETA: 3s - loss: 0.6605 - acc: 0.775 - ETA: 3s - loss: 0.6647 - acc: 0.773 - ETA: 2s - loss: 0.6710 - acc: 0.785 - ETA: 2s - loss: 0.6666 - acc: 0.786 - ETA: 2s - loss: 0.6693 - acc: 0.786 - ETA: 2s - loss: 0.6858 - acc: 0.787 - ETA: 2s - loss: 0.6555 - acc: 0.795 - ETA: 2s - loss: 0.6580 - acc: 0.793 - ETA: 2s - loss: 0.6412 - acc: 0.796 - ETA: 1s - loss: 0.6407 - acc: 0.795 - ETA: 1s - loss: 0.6332 - acc: 0.800 - ETA: 1s - loss: 0.6374 - acc: 0.800 - ETA: 1s - loss: 0.6422 - acc: 0.798 - ETA: 1s - loss: 0.6453 - acc: 0.800 - ETA: 1s - loss: 0.6408 - acc: 0.801 - ETA: 0s - loss: 0.6599 - acc: 0.796 - ETA: 0s - loss: 0.6511 - acc: 0.798 - ETA: 0s - loss: 0.6520 - acc: 0.796 - ETA: 0s - loss: 0.6596 - acc: 0.798 - ETA: 0s - loss: 0.6621 - acc: 0.796 - ETA: 0s - loss: 0.6604 - acc: 0.797 - 4s 2ms/step - loss: 0.6571 - acc: 0.7981 - val_loss: 3.0561 - val_acc: 0.3738\n",
      "Epoch 46/50\n",
      "2298/2298 [==============================] - ETA: 3s - loss: 0.4586 - acc: 0.840 - ETA: 3s - loss: 0.5982 - acc: 0.800 - ETA: 3s - loss: 0.5677 - acc: 0.820 - ETA: 2s - loss: 0.5544 - acc: 0.822 - ETA: 2s - loss: 0.5231 - acc: 0.830 - ETA: 2s - loss: 0.5130 - acc: 0.833 - ETA: 2s - loss: 0.5204 - acc: 0.830 - ETA: 2s - loss: 0.5378 - acc: 0.827 - ETA: 2s - loss: 0.5546 - acc: 0.825 - ETA: 1s - loss: 0.5474 - acc: 0.825 - ETA: 1s - loss: 0.5427 - acc: 0.826 - ETA: 1s - loss: 0.5453 - acc: 0.823 - ETA: 1s - loss: 0.5394 - acc: 0.825 - ETA: 1s - loss: 0.5260 - acc: 0.828 - ETA: 1s - loss: 0.5242 - acc: 0.830 - ETA: 1s - loss: 0.5483 - acc: 0.825 - ETA: 0s - loss: 0.5528 - acc: 0.824 - ETA: 0s - loss: 0.5499 - acc: 0.824 - ETA: 0s - loss: 0.5578 - acc: 0.822 - ETA: 0s - loss: 0.5462 - acc: 0.825 - ETA: 0s - loss: 0.5469 - acc: 0.825 - ETA: 0s - loss: 0.5546 - acc: 0.823 - 4s 2ms/step - loss: 0.5593 - acc: 0.8207 - val_loss: 3.1321 - val_acc: 0.3614\n",
      "Epoch 47/50\n",
      "2298/2298 [==============================] - ETA: 3s - loss: 0.4603 - acc: 0.860 - ETA: 3s - loss: 0.7155 - acc: 0.810 - ETA: 3s - loss: 0.6441 - acc: 0.820 - ETA: 2s - loss: 0.5988 - acc: 0.825 - ETA: 2s - loss: 0.6203 - acc: 0.826 - ETA: 2s - loss: 0.6260 - acc: 0.821 - ETA: 2s - loss: 0.6294 - acc: 0.815 - ETA: 2s - loss: 0.6334 - acc: 0.813 - ETA: 2s - loss: 0.6335 - acc: 0.808 - ETA: 1s - loss: 0.6331 - acc: 0.810 - ETA: 1s - loss: 0.6324 - acc: 0.813 - ETA: 1s - loss: 0.6304 - acc: 0.814 - ETA: 1s - loss: 0.6264 - acc: 0.813 - ETA: 1s - loss: 0.6352 - acc: 0.811 - ETA: 1s - loss: 0.6344 - acc: 0.813 - ETA: 1s - loss: 0.6296 - acc: 0.816 - ETA: 0s - loss: 0.6293 - acc: 0.817 - ETA: 0s - loss: 0.6249 - acc: 0.817 - ETA: 0s - loss: 0.6137 - acc: 0.820 - ETA: 0s - loss: 0.6023 - acc: 0.823 - ETA: 0s - loss: 0.6053 - acc: 0.821 - ETA: 0s - loss: 0.6207 - acc: 0.815 - 4s 2ms/step - loss: 0.6191 - acc: 0.8159 - val_loss: 2.9191 - val_acc: 0.3888\n",
      "Epoch 48/50\n",
      "2298/2298 [==============================] - ETA: 3s - loss: 0.7041 - acc: 0.780 - ETA: 3s - loss: 0.6122 - acc: 0.785 - ETA: 3s - loss: 0.5927 - acc: 0.796 - ETA: 3s - loss: 0.5752 - acc: 0.805 - ETA: 2s - loss: 0.5770 - acc: 0.806 - ETA: 2s - loss: 0.5811 - acc: 0.805 - ETA: 2s - loss: 0.5732 - acc: 0.807 - ETA: 2s - loss: 0.5819 - acc: 0.807 - ETA: 2s - loss: 0.5799 - acc: 0.813 - ETA: 2s - loss: 0.6049 - acc: 0.810 - ETA: 1s - loss: 0.5950 - acc: 0.812 - ETA: 1s - loss: 0.5996 - acc: 0.809 - ETA: 1s - loss: 0.6153 - acc: 0.807 - ETA: 1s - loss: 0.6193 - acc: 0.806 - ETA: 1s - loss: 0.6069 - acc: 0.810 - ETA: 1s - loss: 0.6110 - acc: 0.809 - ETA: 0s - loss: 0.6121 - acc: 0.808 - ETA: 0s - loss: 0.6088 - acc: 0.810 - ETA: 0s - loss: 0.6095 - acc: 0.807 - ETA: 0s - loss: 0.6079 - acc: 0.809 - ETA: 0s - loss: 0.6043 - acc: 0.810 - ETA: 0s - loss: 0.6165 - acc: 0.808 - 5s 2ms/step - loss: 0.6159 - acc: 0.8081 - val_loss: 3.0580 - val_acc: 0.3640\n",
      "Epoch 49/50\n"
     ]
    },
    {
     "name": "stdout",
     "output_type": "stream",
     "text": [
      "2298/2298 [==============================] - ETA: 3s - loss: 0.5018 - acc: 0.830 - ETA: 3s - loss: 0.6191 - acc: 0.795 - ETA: 3s - loss: 0.5479 - acc: 0.830 - ETA: 3s - loss: 0.5304 - acc: 0.837 - ETA: 2s - loss: 0.5220 - acc: 0.844 - ETA: 2s - loss: 0.5623 - acc: 0.828 - ETA: 2s - loss: 0.5844 - acc: 0.820 - ETA: 2s - loss: 0.5962 - acc: 0.818 - ETA: 2s - loss: 0.5911 - acc: 0.818 - ETA: 2s - loss: 0.5769 - acc: 0.821 - ETA: 1s - loss: 0.5737 - acc: 0.822 - ETA: 1s - loss: 0.5719 - acc: 0.820 - ETA: 1s - loss: 0.5691 - acc: 0.823 - ETA: 1s - loss: 0.5748 - acc: 0.822 - ETA: 1s - loss: 0.5635 - acc: 0.825 - ETA: 1s - loss: 0.5524 - acc: 0.828 - ETA: 0s - loss: 0.5512 - acc: 0.828 - ETA: 0s - loss: 0.5525 - acc: 0.827 - ETA: 0s - loss: 0.5542 - acc: 0.830 - ETA: 0s - loss: 0.5493 - acc: 0.831 - ETA: 0s - loss: 0.5533 - acc: 0.833 - ETA: 0s - loss: 0.5585 - acc: 0.832 - 4s 2ms/step - loss: 0.5518 - acc: 0.8346 - val_loss: 3.1376 - val_acc: 0.3653\n",
      "Epoch 50/50\n",
      "2298/2298 [==============================] - ETA: 3s - loss: 0.6117 - acc: 0.790 - ETA: 3s - loss: 0.6341 - acc: 0.795 - ETA: 3s - loss: 0.6254 - acc: 0.796 - ETA: 3s - loss: 0.5623 - acc: 0.812 - ETA: 2s - loss: 0.5425 - acc: 0.822 - ETA: 2s - loss: 0.5425 - acc: 0.833 - ETA: 2s - loss: 0.5312 - acc: 0.835 - ETA: 2s - loss: 0.5800 - acc: 0.825 - ETA: 2s - loss: 0.5827 - acc: 0.824 - ETA: 2s - loss: 0.5805 - acc: 0.826 - ETA: 1s - loss: 0.5814 - acc: 0.828 - ETA: 1s - loss: 0.5861 - acc: 0.827 - ETA: 1s - loss: 0.5820 - acc: 0.828 - ETA: 1s - loss: 0.5845 - acc: 0.827 - ETA: 1s - loss: 0.6087 - acc: 0.820 - ETA: 1s - loss: 0.6082 - acc: 0.823 - ETA: 0s - loss: 0.6029 - acc: 0.825 - ETA: 0s - loss: 0.5955 - acc: 0.827 - ETA: 0s - loss: 0.5996 - acc: 0.826 - ETA: 0s - loss: 0.5937 - acc: 0.827 - ETA: 0s - loss: 0.5883 - acc: 0.827 - ETA: 0s - loss: 0.5917 - acc: 0.826 - 4s 2ms/step - loss: 0.5918 - acc: 0.8268 - val_loss: 3.1714 - val_acc: 0.3738\n"
     ]
    },
    {
     "data": {
      "text/plain": [
       "<keras.callbacks.History at 0xb3157650b8>"
      ]
     },
     "execution_count": 155,
     "metadata": {},
     "output_type": "execute_result"
    }
   ],
   "source": [
    "model = get_model()\n",
    "model.fit(X_train, y_train_hot, batch_size=batch_size, epochs=50, verbose=verbose, validation_data=(X_test, y_test_hot))"
   ]
  },
  {
   "cell_type": "code",
   "execution_count": 171,
   "metadata": {},
   "outputs": [
    {
     "data": {
      "text/plain": [
       "'applause'"
      ]
     },
     "execution_count": 171,
     "metadata": {},
     "output_type": "execute_result"
    }
   ],
   "source": [
    "predict('AudioEventDataset/test/applause_164.wav',model)"
   ]
  },
  {
   "cell_type": "code",
   "execution_count": 172,
   "metadata": {},
   "outputs": [
    {
     "data": {
      "text/plain": [
       "'bird'"
      ]
     },
     "execution_count": 172,
     "metadata": {},
     "output_type": "execute_result"
    }
   ],
   "source": [
    "predict('AudioEventDataset/test/bird_261.wav',model)"
   ]
  },
  {
   "cell_type": "markdown",
   "metadata": {},
   "source": [
    "Our model has a final accuracy bordering closely to 83% in most iterations. "
   ]
  },
  {
   "cell_type": "code",
   "execution_count": 197,
   "metadata": {},
   "outputs": [
    {
     "data": {
      "text/plain": [
       "array([[-4.07509436e+02, -3.59173324e+02, -3.07783885e+02,\n",
       "        -2.51872546e+02, -2.07779268e+02, -1.90364785e+02,\n",
       "        -1.85831963e+02, -1.80115295e+02, -1.74134611e+02,\n",
       "        -1.61330680e+02, -1.44512192e+02],\n",
       "       [ 7.96741658e+01,  9.37160258e+01,  1.02364193e+02,\n",
       "         9.28084171e+01,  6.64254368e+01,  4.99863786e+01,\n",
       "         4.46291822e+01,  4.81750057e+01,  4.74270920e+01,\n",
       "         4.69591498e+01,  4.98046659e+01],\n",
       "       [ 1.53596281e+01, -8.82166556e+00, -3.92586336e+01,\n",
       "        -4.97065870e+01, -4.85087316e+01, -4.89039510e+01,\n",
       "        -5.31695117e+01, -5.05485235e+01, -4.48356264e+01,\n",
       "        -4.17622291e+01, -4.01111123e+01],\n",
       "       [ 9.78222286e+00,  9.75322020e+00,  9.04834271e+00,\n",
       "         1.89716070e+01,  2.47039132e+01,  2.39251309e+01,\n",
       "         2.42320769e+01,  2.83523978e+01,  2.71364585e+01,\n",
       "         2.56629438e+01,  2.32949873e+01],\n",
       "       [ 1.14942156e+01,  1.06596569e+01,  5.08347919e+00,\n",
       "        -1.12936669e+01, -1.64215590e+01, -1.55537886e+01,\n",
       "        -1.89772989e+01, -2.08665222e+01, -1.92290051e+01,\n",
       "        -1.91025169e+01, -1.86222711e+01],\n",
       "       [-6.20258108e+00, -1.39027123e+01, -1.69213706e+01,\n",
       "        -1.55119343e+01, -8.52889098e+00, -2.76797966e+00,\n",
       "        -2.00757922e+00, -2.06770024e+00,  5.58265117e+00,\n",
       "         5.41740239e+00,  3.76627789e+00],\n",
       "       [-1.55360274e+01, -2.23848992e+01, -2.11451556e+01,\n",
       "        -3.28487222e+01, -3.92691958e+01, -3.63375091e+01,\n",
       "        -3.66469527e+01, -3.62315597e+01, -3.67807993e+01,\n",
       "        -3.80660518e+01, -3.70726846e+01],\n",
       "       [-7.61351118e+00, -1.13020981e+01, -1.70901628e+01,\n",
       "        -1.65367308e+01, -1.77517929e+01, -1.35833745e+01,\n",
       "        -1.21264745e+01, -1.40328874e+01, -1.57162707e+01,\n",
       "        -1.74833387e+01, -1.90637310e+01],\n",
       "       [-3.81363051e-01, -2.97913115e+00, -3.42650927e+00,\n",
       "        -6.44477626e+00, -1.01052060e+01, -1.04096496e+01,\n",
       "        -1.42079202e+01, -1.11130248e+01, -7.23102947e+00,\n",
       "        -7.68914390e+00, -6.33533688e+00],\n",
       "       [-2.07861145e+00, -4.85583750e+00, -1.16143933e+00,\n",
       "        -4.64129999e-01,  2.20298807e+00,  1.00157863e+00,\n",
       "        -6.27760979e+00, -7.54609682e+00, -6.43007890e+00,\n",
       "        -8.51385912e+00, -9.93155584e+00],\n",
       "       [-1.25754996e+00, -2.06110795e+00, -4.09324769e+00,\n",
       "        -3.93152244e+00, -1.87558120e+00, -3.07537451e-01,\n",
       "        -9.08150074e+00, -1.59851349e+01, -1.42464167e+01,\n",
       "        -8.08346963e+00, -9.53872775e+00],\n",
       "       [ 3.65819786e+00, -6.79500540e-01, -6.18979106e+00,\n",
       "        -3.81019985e+00, -7.63102274e+00, -2.03260492e+00,\n",
       "        -2.67550025e+00, -5.11535205e+00, -2.11398866e+00,\n",
       "         3.40763325e+00, -2.69836822e+00],\n",
       "       [ 5.79112576e+00,  2.73453975e+00,  1.11597627e+00,\n",
       "        -1.24370458e+00, -1.48822033e+00,  1.16434197e+00,\n",
       "        -3.74211907e+00, -7.50922095e+00, -5.79174758e+00,\n",
       "        -2.81003736e+00, -3.06284589e+00],\n",
       "       [ 9.36390127e+00,  6.80628325e+00,  5.19271256e+00,\n",
       "         3.58629376e+00,  3.74578390e+00,  9.36776662e+00,\n",
       "         1.04789594e+01,  3.77671738e+00, -3.41634669e+00,\n",
       "        -2.05917694e-02, -2.32383258e+00],\n",
       "       [ 1.25163015e+01,  1.05398765e+01,  1.36167867e+01,\n",
       "         1.80529399e+01,  1.79585673e+01,  2.03567611e+01,\n",
       "         2.18735187e+01,  1.66350945e+01,  1.64284501e+01,\n",
       "         2.08529625e+01,  2.24480777e+01],\n",
       "       [ 6.99678280e+00,  1.07165784e+01,  1.27431393e+01,\n",
       "         1.07875476e+01,  9.72777127e+00,  1.05554205e+01,\n",
       "         8.56792083e+00,  6.62715556e+00,  7.56325415e+00,\n",
       "         6.04613236e+00,  6.52275958e+00],\n",
       "       [-9.79649290e-01,  5.18017660e+00,  2.30729551e+00,\n",
       "        -1.37625346e+00, -1.76339268e+00, -2.49693472e+00,\n",
       "        -8.50299846e-01, -6.24621237e+00, -8.36643240e+00,\n",
       "        -1.01450037e+01, -3.51880756e+00],\n",
       "       [-6.39242006e+00, -8.69167042e-03,  4.19237185e+00,\n",
       "         6.33823296e-01, -1.04488054e+00, -1.23689832e+00,\n",
       "         6.94555228e-01, -1.51911397e+00, -4.39923472e+00,\n",
       "        -1.47128449e+00,  1.16282040e+00],\n",
       "       [-7.34372765e+00, -1.55937703e+00,  2.28643180e+00,\n",
       "         8.73632188e-01,  2.65095445e+00, -1.46423087e+00,\n",
       "        -4.16093617e+00, -3.22694826e+00, -5.97946135e+00,\n",
       "        -6.89723192e+00, -4.02203813e+00],\n",
       "       [-2.40491323e+00,  4.46161899e+00,  6.47909798e+00,\n",
       "         2.28314947e+00, -2.50649509e+00, -2.61405088e+00,\n",
       "        -3.23989025e+00, -3.17237224e+00, -3.46688653e+00,\n",
       "         4.08559128e-01, -3.08578229e-02]])"
      ]
     },
     "execution_count": 197,
     "metadata": {},
     "output_type": "execute_result"
    }
   ],
   "source": [
    "X_train[233]"
   ]
  },
  {
   "cell_type": "code",
   "execution_count": null,
   "metadata": {},
   "outputs": [],
   "source": []
  }
 ],
 "metadata": {
  "kernelspec": {
   "display_name": "Python 3",
   "language": "python",
   "name": "python3"
  },
  "language_info": {
   "codemirror_mode": {
    "name": "ipython",
    "version": 3
   },
   "file_extension": ".py",
   "mimetype": "text/x-python",
   "name": "python",
   "nbconvert_exporter": "python",
   "pygments_lexer": "ipython3",
   "version": "3.6.5"
  }
 },
 "nbformat": 4,
 "nbformat_minor": 2
}
